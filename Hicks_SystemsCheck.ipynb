{
 "cells": [
  {
   "cell_type": "markdown",
   "id": "1ab1dfd8",
   "metadata": {},
   "source": [
    "## Header"
   ]
  },
  {
   "cell_type": "markdown",
   "id": "dc87d0e5",
   "metadata": {},
   "source": [
    "# Header"
   ]
  },
  {
   "cell_type": "markdown",
   "id": "c79a36c4",
   "metadata": {},
   "source": [
    "I hope to learn as much about data science as possibe in this class. I loved stats and I really think this area is interesting."
   ]
  },
  {
   "attachments": {},
   "cell_type": "markdown",
   "id": "02f82c7e",
   "metadata": {},
   "source": [
    "[Boyside.png](attachment:Boyside.png)"
   ]
  },
  {
   "cell_type": "code",
   "execution_count": 1,
   "id": "3f17764d",
   "metadata": {},
   "outputs": [
    {
     "data": {
      "text/plain": [
       "7"
      ]
     },
     "execution_count": 1,
     "metadata": {},
     "output_type": "execute_result"
    }
   ],
   "source": [
    "3+4"
   ]
  },
  {
   "cell_type": "code",
   "execution_count": null,
   "id": "6baf6a77",
   "metadata": {},
   "outputs": [],
   "source": []
  }
 ],
 "metadata": {
  "kernelspec": {
   "display_name": "Python 3 (ipykernel)",
   "language": "python",
   "name": "python3"
  },
  "language_info": {
   "codemirror_mode": {
    "name": "ipython",
    "version": 3
   },
   "file_extension": ".py",
   "mimetype": "text/x-python",
   "name": "python",
   "nbconvert_exporter": "python",
   "pygments_lexer": "ipython3",
   "version": "3.11.4"
  }
 },
 "nbformat": 4,
 "nbformat_minor": 5
}
