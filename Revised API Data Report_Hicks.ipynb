{
 "cells": [
  {
   "cell_type": "markdown",
   "id": "f595b19f",
   "metadata": {},
   "source": [
    "# Jaylen Hicks\n",
    "## Revised API Analysis Assignment\n",
    "### December 16, 2023"
   ]
  },
  {
   "cell_type": "markdown",
   "id": "396cc211",
   "metadata": {},
   "source": [
    "The source fo the data comes form Spotify's API. In this assignment, I made a CSV file of the Top Song of Each Year (1972-2022, as well as its Spotify ID. Then, I got the duration of each song using audio features. "
   ]
  },
  {
   "cell_type": "code",
   "execution_count": 122,
   "id": "b0e94e03",
   "metadata": {},
   "outputs": [],
   "source": [
    "import requests\n",
    "import pandas as pd\n",
    "import base64\n",
    "import json\n",
    "from scipy import stats\n",
    "from matplotlib import pyplot as plt\n",
    "import numpy as np"
   ]
  },
  {
   "cell_type": "code",
   "execution_count": 73,
   "id": "2226a4f8",
   "metadata": {},
   "outputs": [],
   "source": [
    "Client_ID = pd.read_csv(\"Spotify_Keys.txt\")['Client_ID'].iloc[0]"
   ]
  },
  {
   "cell_type": "code",
   "execution_count": 74,
   "id": "c9269141",
   "metadata": {},
   "outputs": [],
   "source": [
    "Client_Secret = pd.read_csv(\"Spotify_Keys.txt\")['Client_Secret'].iloc[0]"
   ]
  },
  {
   "cell_type": "code",
   "execution_count": 75,
   "id": "99b94631",
   "metadata": {},
   "outputs": [],
   "source": [
    "client_cred = base64.b64encode(str(Client_ID + \":\" + Client_Secret).encode(\"ascii\"))"
   ]
  },
  {
   "cell_type": "code",
   "execution_count": 76,
   "id": "1be45ef7",
   "metadata": {},
   "outputs": [],
   "source": [
    "headers = {\"Authorization\": \"Basic {}\".format(client_cred.decode(\"ascii\"))}"
   ]
  },
  {
   "cell_type": "code",
   "execution_count": 99,
   "id": "5ab4981b",
   "metadata": {},
   "outputs": [],
   "source": [
    "payload = {'grant_type' : 'client_credentials'}\n",
    "url = 'https://accounts.spotify.com/api/token'"
   ]
  },
  {
   "cell_type": "code",
   "execution_count": 100,
   "id": "de4c7c74",
   "metadata": {},
   "outputs": [],
   "source": [
    "session_key_response = requests.post(url = url, data = payload, headers = headers)"
   ]
  },
  {
   "cell_type": "code",
   "execution_count": 101,
   "id": "668dc7eb",
   "metadata": {},
   "outputs": [],
   "source": [
    "session_header_key = session_key_response.json()\n",
    "key = session_header_key['access_token']\n",
    "session_headers = {\"Authorization\": \"Bearer {}\".format(key)}"
   ]
  },
  {
   "cell_type": "code",
   "execution_count": 102,
   "id": "8c270a7b",
   "metadata": {},
   "outputs": [],
   "source": [
    "listids = '63xdwScd1Ai1GigAwQxE8y,5yr8pi3uCjTYOnTqstBBdm,1vZTgn4JXWMahR8r99ug5H,4pCNJwixy2ImFncaPY2yE2,5Qhfo6ZqoA2oPF5uFf43L3,6sIuXT6JNDeLJ5achFADtz,3unwRUV5qbjMmH3NJtaODy,1HOMkjp0nHMaTnfAkslCQj,7HKxTNVlkHsfMLhigmhC0I,0odIT9B9BvOCnXfS0e4lB5,3FuL7jThtUAjneBm6puQNk,1JSTJqkT5qHq8MDJnJbRE1,51H2y6YrNNXcy3dfc3qSbA,4jDmJ51x1o9NZB5Nxxc7gY,1cOj24fUMnBSXhtp7waHVW,1Jwc3ODLQxtbnS8M9TflSP,59eAcAyhYSLi5GKFrgHJzG,5VpJrXw5GRP0tSFXAzrRM5,4VZDv8sASBS8UruUBGTFdk,6eBK3edMW7bEzecF1eCezc,3l3xTXsUXeWlkPqzMs7mPD,4eHbdreAnSOrDDsFfc4Fpm,0hrBpAOgrt8RXigk83LLNE,1DIXPcTDzTj8ZMHt3PDt8p,6mhw2fEPH4fMF0wolNm96e,4l4mSq8IKgCMz0q9KFZ7tK,5IFCyWplye09HytIP80RCF,2goLsvvODILDzeeiT4dAoR,3y4LxiYMgDl4RethdzpmNe,0wqOReZDnrefefEsrIGeR4,0gmbgwZ8iqyMPmXefof8Yf,5Mcvgt2GbxxCp6cz3Kfjey,5rb9QrpfcKFHM1EUbSIurX,3LmvfNUQtglbTrydsdIqFU,0mUyMawtxj1CJ76kn9gIZK,6RX5iL93VZ5fKmyvNXvF1r,0CAfXk7DXMnon4gLudAp7J,3opVsyWVYEAFK9bJAG8Opa,0HPD5WQqrq7wPWR7P7Dw1i,1c8gk2PeTE04A1pIDH9YMk,4wCmqSrbyCgxEXROQE6vtV,1CmUZGtH29Kx36C1Hleqlz,60nZcImufyMA1MKQY3dcCH,2JzZzZUQj3Qff7wapcbKjc,50kpGaPAhYJ3sGmk6vplg0,3Gq2Dme9nesdgoqNNlcN8O,6DCZcSspjsKoFjzjrWoCdn,2YpeDb67231RjR0MgVLzsG,0VjIjW4GlUZAMYd2vXMi3b,39LLxExYz6ewLAcYrzQQyP,3USxtqRwSYz57Ewm6wWRMp'"
   ]
  },
  {
   "cell_type": "code",
   "execution_count": 104,
   "id": "0da0a592",
   "metadata": {},
   "outputs": [],
   "source": [
    "album_url = 'https://api.spotify.com/v1/audio-features?ids=63xdwScd1Ai1GigAwQxE8y%2C5yr8pi3uCjTYOnTqstBBdm%2C1vZTgn4JXWMahR8r99ug5H%2C4pCNJwixy2ImFncaPY2yE2%2C5Qhfo6ZqoA2oPF5uFf43L3%2C6sIuXT6JNDeLJ5achFADtz%2C3unwRUV5qbjMmH3NJtaODy%2C1HOMkjp0nHMaTnfAkslCQj%2C7HKxTNVlkHsfMLhigmhC0I%2C0odIT9B9BvOCnXfS0e4lB5%2C3FuL7jThtUAjneBm6puQNk%2C1JSTJqkT5qHq8MDJnJbRE1%2C51H2y6YrNNXcy3dfc3qSbA%2C4jDmJ51x1o9NZB5Nxxc7gY%2C1cOj24fUMnBSXhtp7waHVW%2C1Jwc3ODLQxtbnS8M9TflSP%2C59eAcAyhYSLi5GKFrgHJzG%2C5VpJrXw5GRP0tSFXAzrRM5%2C4VZDv8sASBS8UruUBGTFdk%2C6eBK3edMW7bEzecF1eCezc%2C3l3xTXsUXeWlkPqzMs7mPD%2C4eHbdreAnSOrDDsFfc4Fpm%2C0hrBpAOgrt8RXigk83LLNE%2C1DIXPcTDzTj8ZMHt3PDt8p%2C6mhw2fEPH4fMF0wolNm96e%2C4l4mSq8IKgCMz0q9KFZ7tK%2C5IFCyWplye09HytIP80RCF%2C2goLsvvODILDzeeiT4dAoR%2C3y4LxiYMgDl4RethdzpmNe%2C0wqOReZDnrefefEsrIGeR4%2C0gmbgwZ8iqyMPmXefof8Yf%2C5Mcvgt2GbxxCp6cz3Kfjey%2C5rb9QrpfcKFHM1EUbSIurX%2C3LmvfNUQtglbTrydsdIqFU%2C0mUyMawtxj1CJ76kn9gIZK%2C6RX5iL93VZ5fKmyvNXvF1r%2C0CAfXk7DXMnon4gLudAp7J%2C3opVsyWVYEAFK9bJAG8Opa%2C0HPD5WQqrq7wPWR7P7Dw1i%2C1c8gk2PeTE04A1pIDH9YMk%2C4wCmqSrbyCgxEXROQE6vtV%2C1CmUZGtH29Kx36C1Hleqlz%2C60nZcImufyMA1MKQY3dcCH%2C2JzZzZUQj3Qff7wapcbKjc%2C50kpGaPAhYJ3sGmk6vplg0%2C3Gq2Dme9nesdgoqNNlcN8O%2C6DCZcSspjsKoFjzjrWoCdn%2C2YpeDb67231RjR0MgVLzsG%2C0VjIjW4GlUZAMYd2vXMi3b%2C39LLxExYz6ewLAcYrzQQyP%2C3USxtqRwSYz57Ewm6wWRMp'.format(listids)"
   ]
  },
  {
   "cell_type": "code",
   "execution_count": 105,
   "id": "48b7bbda",
   "metadata": {},
   "outputs": [],
   "source": [
    "response = requests.get(url = album_url, headers = session_headers)"
   ]
  },
  {
   "cell_type": "code",
   "execution_count": 106,
   "id": "b5f776ff",
   "metadata": {},
   "outputs": [],
   "source": [
    "data = json.loads(response.text)"
   ]
  },
  {
   "cell_type": "code",
   "execution_count": 107,
   "id": "8935f08d",
   "metadata": {},
   "outputs": [
    {
     "data": {
      "text/plain": [
       "dict"
      ]
     },
     "execution_count": 107,
     "metadata": {},
     "output_type": "execute_result"
    }
   ],
   "source": [
    "type(data)"
   ]
  },
  {
   "cell_type": "code",
   "execution_count": 132,
   "id": "2e6afcfd",
   "metadata": {},
   "outputs": [
    {
     "data": {
      "text/html": [
       "<div>\n",
       "<style scoped>\n",
       "    .dataframe tbody tr th:only-of-type {\n",
       "        vertical-align: middle;\n",
       "    }\n",
       "\n",
       "    .dataframe tbody tr th {\n",
       "        vertical-align: top;\n",
       "    }\n",
       "\n",
       "    .dataframe thead th {\n",
       "        text-align: right;\n",
       "    }\n",
       "</style>\n",
       "<table border=\"1\" class=\"dataframe\">\n",
       "  <thead>\n",
       "    <tr style=\"text-align: right;\">\n",
       "      <th></th>\n",
       "      <th>Year</th>\n",
       "      <th>Song</th>\n",
       "      <th>id</th>\n",
       "    </tr>\n",
       "  </thead>\n",
       "  <tbody>\n",
       "    <tr>\n",
       "      <th>0</th>\n",
       "      <td>1972</td>\n",
       "      <td>\"Let's Stay Together\" — Al Green</td>\n",
       "      <td>63xdwScd1Ai1GigAwQxE8y</td>\n",
       "    </tr>\n",
       "    <tr>\n",
       "      <th>1</th>\n",
       "      <td>1973</td>\n",
       "      <td>\"Let's Get It On\" — Marvin Gaye</td>\n",
       "      <td>5yr8pi3uCjTYOnTqstBBdm</td>\n",
       "    </tr>\n",
       "    <tr>\n",
       "      <th>2</th>\n",
       "      <td>1974</td>\n",
       "      <td>\"The Way We Were\" — Barbra Streisand</td>\n",
       "      <td>1vZTgn4JXWMahR8r99ug5H</td>\n",
       "    </tr>\n",
       "    <tr>\n",
       "      <th>3</th>\n",
       "      <td>1975</td>\n",
       "      <td>\"Love Will Keep Us Together\" — Captain &amp; Tennille</td>\n",
       "      <td>4pCNJwixy2ImFncaPY2yE2</td>\n",
       "    </tr>\n",
       "    <tr>\n",
       "      <th>4</th>\n",
       "      <td>1976</td>\n",
       "      <td>\"Silly Love Songs\" — Wings</td>\n",
       "      <td>5Qhfo6ZqoA2oPF5uFf43L3</td>\n",
       "    </tr>\n",
       "    <tr>\n",
       "      <th>5</th>\n",
       "      <td>1977</td>\n",
       "      <td>\"Tonight's The Night (Gonna Be Alright)\" — Rod...</td>\n",
       "      <td>6sIuXT6JNDeLJ5achFADtz</td>\n",
       "    </tr>\n",
       "    <tr>\n",
       "      <th>6</th>\n",
       "      <td>1978</td>\n",
       "      <td>\"Shadow Dancing\" — Andy Gibb</td>\n",
       "      <td>3unwRUV5qbjMmH3NJtaODy</td>\n",
       "    </tr>\n",
       "    <tr>\n",
       "      <th>7</th>\n",
       "      <td>1979</td>\n",
       "      <td>\"My Sharona\" — The Knack</td>\n",
       "      <td>1HOMkjp0nHMaTnfAkslCQj</td>\n",
       "    </tr>\n",
       "    <tr>\n",
       "      <th>8</th>\n",
       "      <td>1980</td>\n",
       "      <td>\"Call Me\" — Blondie</td>\n",
       "      <td>7HKxTNVlkHsfMLhigmhC0I</td>\n",
       "    </tr>\n",
       "    <tr>\n",
       "      <th>9</th>\n",
       "      <td>1981</td>\n",
       "      <td>\"Bette Davis Eyes\" — Kim Carnes</td>\n",
       "      <td>0odIT9B9BvOCnXfS0e4lB5</td>\n",
       "    </tr>\n",
       "    <tr>\n",
       "      <th>10</th>\n",
       "      <td>1982</td>\n",
       "      <td>\"Physical\" — Olivia Newton-John</td>\n",
       "      <td>3FuL7jThtUAjneBm6puQNk</td>\n",
       "    </tr>\n",
       "    <tr>\n",
       "      <th>11</th>\n",
       "      <td>1983</td>\n",
       "      <td>\"Every Breath You Take\" — The Police</td>\n",
       "      <td>1JSTJqkT5qHq8MDJnJbRE1</td>\n",
       "    </tr>\n",
       "    <tr>\n",
       "      <th>12</th>\n",
       "      <td>1984</td>\n",
       "      <td>\"When Doves Cry\" — Prince</td>\n",
       "      <td>51H2y6YrNNXcy3dfc3qSbA</td>\n",
       "    </tr>\n",
       "    <tr>\n",
       "      <th>13</th>\n",
       "      <td>1985</td>\n",
       "      <td>\"Careless Whisper\" — George Michael</td>\n",
       "      <td>4jDmJ51x1o9NZB5Nxxc7gY</td>\n",
       "    </tr>\n",
       "    <tr>\n",
       "      <th>14</th>\n",
       "      <td>1986</td>\n",
       "      <td>\"That's What Friends Are For\" — Dionne Warwick...</td>\n",
       "      <td>1cOj24fUMnBSXhtp7waHVW</td>\n",
       "    </tr>\n",
       "    <tr>\n",
       "      <th>15</th>\n",
       "      <td>1987</td>\n",
       "      <td>\"Walk Like An Egyptian\" — The Bangles</td>\n",
       "      <td>1Jwc3ODLQxtbnS8M9TflSP</td>\n",
       "    </tr>\n",
       "    <tr>\n",
       "      <th>16</th>\n",
       "      <td>1988</td>\n",
       "      <td>\"Faith\" — George Michael</td>\n",
       "      <td>59eAcAyhYSLi5GKFrgHJzG</td>\n",
       "    </tr>\n",
       "    <tr>\n",
       "      <th>17</th>\n",
       "      <td>1989</td>\n",
       "      <td>\"Look Away\" — Chicago</td>\n",
       "      <td>5VpJrXw5GRP0tSFXAzrRM5</td>\n",
       "    </tr>\n",
       "    <tr>\n",
       "      <th>18</th>\n",
       "      <td>1990</td>\n",
       "      <td>\"Hold On\" — Wilson Phillips</td>\n",
       "      <td>4VZDv8sASBS8UruUBGTFdk</td>\n",
       "    </tr>\n",
       "    <tr>\n",
       "      <th>19</th>\n",
       "      <td>1991</td>\n",
       "      <td>\"(Everything I Do) I Do It For You\" — Bryan Adams</td>\n",
       "      <td>6eBK3edMW7bEzecF1eCezc</td>\n",
       "    </tr>\n",
       "    <tr>\n",
       "      <th>20</th>\n",
       "      <td>1992</td>\n",
       "      <td>\"End Of The Road\" — Boyz II Men</td>\n",
       "      <td>3l3xTXsUXeWlkPqzMs7mPD</td>\n",
       "    </tr>\n",
       "    <tr>\n",
       "      <th>21</th>\n",
       "      <td>1993</td>\n",
       "      <td>\"I Will Always Love You\" — Whitney Houston</td>\n",
       "      <td>4eHbdreAnSOrDDsFfc4Fpm</td>\n",
       "    </tr>\n",
       "    <tr>\n",
       "      <th>22</th>\n",
       "      <td>1994</td>\n",
       "      <td>\"The Sign\" — Ace of Base</td>\n",
       "      <td>0hrBpAOgrt8RXigk83LLNE</td>\n",
       "    </tr>\n",
       "    <tr>\n",
       "      <th>23</th>\n",
       "      <td>1995</td>\n",
       "      <td>\"Gangsta's Paradise\" — Coolio featuring L.V.</td>\n",
       "      <td>1DIXPcTDzTj8ZMHt3PDt8p</td>\n",
       "    </tr>\n",
       "    <tr>\n",
       "      <th>24</th>\n",
       "      <td>1996</td>\n",
       "      <td>\"Macarena\" — Los del Rio</td>\n",
       "      <td>6mhw2fEPH4fMF0wolNm96e</td>\n",
       "    </tr>\n",
       "    <tr>\n",
       "      <th>25</th>\n",
       "      <td>1997</td>\n",
       "      <td>\"Something About The Way You Look Tonight\" — E...</td>\n",
       "      <td>4l4mSq8IKgCMz0q9KFZ7tK</td>\n",
       "    </tr>\n",
       "    <tr>\n",
       "      <th>26</th>\n",
       "      <td>1998</td>\n",
       "      <td>\"Too Close\" — Next</td>\n",
       "      <td>5IFCyWplye09HytIP80RCF</td>\n",
       "    </tr>\n",
       "    <tr>\n",
       "      <th>27</th>\n",
       "      <td>1999</td>\n",
       "      <td>\"Believe\" — Cher</td>\n",
       "      <td>2goLsvvODILDzeeiT4dAoR</td>\n",
       "    </tr>\n",
       "    <tr>\n",
       "      <th>28</th>\n",
       "      <td>2000</td>\n",
       "      <td>\"Breathe\" — Faith Hill</td>\n",
       "      <td>3y4LxiYMgDl4RethdzpmNe</td>\n",
       "    </tr>\n",
       "    <tr>\n",
       "      <th>29</th>\n",
       "      <td>2001</td>\n",
       "      <td>\"Hanging By A Moment\" — Lifehouse</td>\n",
       "      <td>0wqOReZDnrefefEsrIGeR4</td>\n",
       "    </tr>\n",
       "    <tr>\n",
       "      <th>30</th>\n",
       "      <td>2002</td>\n",
       "      <td>\"How You Remind Me\" — Nickelback</td>\n",
       "      <td>0gmbgwZ8iqyMPmXefof8Yf</td>\n",
       "    </tr>\n",
       "    <tr>\n",
       "      <th>31</th>\n",
       "      <td>2003</td>\n",
       "      <td>\"In Da Club\" — 50 Cent</td>\n",
       "      <td>5Mcvgt2GbxxCp6cz3Kfjey</td>\n",
       "    </tr>\n",
       "    <tr>\n",
       "      <th>32</th>\n",
       "      <td>2004</td>\n",
       "      <td>\"Yeah!\" — Usher featuring Lil' Jon and Ludacris</td>\n",
       "      <td>5rb9QrpfcKFHM1EUbSIurX</td>\n",
       "    </tr>\n",
       "    <tr>\n",
       "      <th>33</th>\n",
       "      <td>2005</td>\n",
       "      <td>\"We Belong Together\" — Mariah Carey</td>\n",
       "      <td>3LmvfNUQtglbTrydsdIqFU</td>\n",
       "    </tr>\n",
       "    <tr>\n",
       "      <th>34</th>\n",
       "      <td>2006</td>\n",
       "      <td>\"Bad Day\" — Daniel Powter</td>\n",
       "      <td>0mUyMawtxj1CJ76kn9gIZK</td>\n",
       "    </tr>\n",
       "    <tr>\n",
       "      <th>35</th>\n",
       "      <td>2007</td>\n",
       "      <td>\"Irreplaceable\" — Beyoncé</td>\n",
       "      <td>6RX5iL93VZ5fKmyvNXvF1r</td>\n",
       "    </tr>\n",
       "    <tr>\n",
       "      <th>36</th>\n",
       "      <td>2008</td>\n",
       "      <td>\"Low\" — Flo Rida featuring T-Pain</td>\n",
       "      <td>0CAfXk7DXMnon4gLudAp7J</td>\n",
       "    </tr>\n",
       "    <tr>\n",
       "      <th>37</th>\n",
       "      <td>2009</td>\n",
       "      <td>\"Boom Boom Pow\" — The Black Eyed Peas</td>\n",
       "      <td>3opVsyWVYEAFK9bJAG8Opa</td>\n",
       "    </tr>\n",
       "    <tr>\n",
       "      <th>38</th>\n",
       "      <td>2010</td>\n",
       "      <td>\"Tik Tok\" — Kesha</td>\n",
       "      <td>0HPD5WQqrq7wPWR7P7Dw1i</td>\n",
       "    </tr>\n",
       "    <tr>\n",
       "      <th>39</th>\n",
       "      <td>2011</td>\n",
       "      <td>\"Rolling In The Deep\" — Adele</td>\n",
       "      <td>1c8gk2PeTE04A1pIDH9YMk</td>\n",
       "    </tr>\n",
       "    <tr>\n",
       "      <th>40</th>\n",
       "      <td>2012</td>\n",
       "      <td>\"Somebody That I Used To Know\" — Gotye featuri...</td>\n",
       "      <td>4wCmqSrbyCgxEXROQE6vtV</td>\n",
       "    </tr>\n",
       "    <tr>\n",
       "      <th>41</th>\n",
       "      <td>2013</td>\n",
       "      <td>\"Thrift Shop\" — Macklemore &amp; Ryan Lewis featur...</td>\n",
       "      <td>1CmUZGtH29Kx36C1Hleqlz</td>\n",
       "    </tr>\n",
       "    <tr>\n",
       "      <th>42</th>\n",
       "      <td>2014</td>\n",
       "      <td>\"Happy\" — Pharrell Williams</td>\n",
       "      <td>60nZcImufyMA1MKQY3dcCH</td>\n",
       "    </tr>\n",
       "    <tr>\n",
       "      <th>43</th>\n",
       "      <td>2015</td>\n",
       "      <td>\"See You Again\" — Wiz Khalifa featuring Charli...</td>\n",
       "      <td>2JzZzZUQj3Qff7wapcbKjc</td>\n",
       "    </tr>\n",
       "    <tr>\n",
       "      <th>44</th>\n",
       "      <td>2016</td>\n",
       "      <td>\"Love Yourself\" — Justin Bieber</td>\n",
       "      <td>50kpGaPAhYJ3sGmk6vplg0</td>\n",
       "    </tr>\n",
       "    <tr>\n",
       "      <th>45</th>\n",
       "      <td>2017</td>\n",
       "      <td>\"Despacito\" — Luis Fonsi and Daddy Yankee feat...</td>\n",
       "      <td>3Gq2Dme9nesdgoqNNlcN8O</td>\n",
       "    </tr>\n",
       "    <tr>\n",
       "      <th>46</th>\n",
       "      <td>2018</td>\n",
       "      <td>\"God's Plan\" — Drake</td>\n",
       "      <td>6DCZcSspjsKoFjzjrWoCdn</td>\n",
       "    </tr>\n",
       "    <tr>\n",
       "      <th>47</th>\n",
       "      <td>2019</td>\n",
       "      <td>\"Old Town Road\" by Lil Nas X featuring Billy R...</td>\n",
       "      <td>2YpeDb67231RjR0MgVLzsG</td>\n",
       "    </tr>\n",
       "    <tr>\n",
       "      <th>48</th>\n",
       "      <td>2020</td>\n",
       "      <td>\"Blinding Lights\" by The Weeknd</td>\n",
       "      <td>0VjIjW4GlUZAMYd2vXMi3b</td>\n",
       "    </tr>\n",
       "    <tr>\n",
       "      <th>49</th>\n",
       "      <td>2021</td>\n",
       "      <td>\"Levitating\" by Dua Lipa</td>\n",
       "      <td>39LLxExYz6ewLAcYrzQQyP</td>\n",
       "    </tr>\n",
       "    <tr>\n",
       "      <th>50</th>\n",
       "      <td>2022</td>\n",
       "      <td>\"Heat Waves\" by Glass Animals</td>\n",
       "      <td>3USxtqRwSYz57Ewm6wWRMp</td>\n",
       "    </tr>\n",
       "  </tbody>\n",
       "</table>\n",
       "</div>"
      ],
      "text/plain": [
       "    Year                                               Song  \\\n",
       "0   1972                   \"Let's Stay Together\" — Al Green   \n",
       "1   1973                    \"Let's Get It On\" — Marvin Gaye   \n",
       "2   1974               \"The Way We Were\" — Barbra Streisand   \n",
       "3   1975  \"Love Will Keep Us Together\" — Captain & Tennille   \n",
       "4   1976                         \"Silly Love Songs\" — Wings   \n",
       "5   1977  \"Tonight's The Night (Gonna Be Alright)\" — Rod...   \n",
       "6   1978                       \"Shadow Dancing\" — Andy Gibb   \n",
       "7   1979                           \"My Sharona\" — The Knack   \n",
       "8   1980                                \"Call Me\" — Blondie   \n",
       "9   1981                    \"Bette Davis Eyes\" — Kim Carnes   \n",
       "10  1982                    \"Physical\" — Olivia Newton-John   \n",
       "11  1983               \"Every Breath You Take\" — The Police   \n",
       "12  1984                          \"When Doves Cry\" — Prince   \n",
       "13  1985                \"Careless Whisper\" — George Michael   \n",
       "14  1986  \"That's What Friends Are For\" — Dionne Warwick...   \n",
       "15  1987              \"Walk Like An Egyptian\" — The Bangles   \n",
       "16  1988                           \"Faith\" — George Michael   \n",
       "17  1989                              \"Look Away\" — Chicago   \n",
       "18  1990                        \"Hold On\" — Wilson Phillips   \n",
       "19  1991  \"(Everything I Do) I Do It For You\" — Bryan Adams   \n",
       "20  1992                    \"End Of The Road\" — Boyz II Men   \n",
       "21  1993         \"I Will Always Love You\" — Whitney Houston   \n",
       "22  1994                           \"The Sign\" — Ace of Base   \n",
       "23  1995       \"Gangsta's Paradise\" — Coolio featuring L.V.   \n",
       "24  1996                           \"Macarena\" — Los del Rio   \n",
       "25  1997  \"Something About The Way You Look Tonight\" — E...   \n",
       "26  1998                                 \"Too Close\" — Next   \n",
       "27  1999                                   \"Believe\" — Cher   \n",
       "28  2000                             \"Breathe\" — Faith Hill   \n",
       "29  2001                  \"Hanging By A Moment\" — Lifehouse   \n",
       "30  2002                   \"How You Remind Me\" — Nickelback   \n",
       "31  2003                             \"In Da Club\" — 50 Cent   \n",
       "32  2004    \"Yeah!\" — Usher featuring Lil' Jon and Ludacris   \n",
       "33  2005                \"We Belong Together\" — Mariah Carey   \n",
       "34  2006                          \"Bad Day\" — Daniel Powter   \n",
       "35  2007                          \"Irreplaceable\" — Beyoncé   \n",
       "36  2008                  \"Low\" — Flo Rida featuring T-Pain   \n",
       "37  2009              \"Boom Boom Pow\" — The Black Eyed Peas   \n",
       "38  2010                                  \"Tik Tok\" — Kesha   \n",
       "39  2011                      \"Rolling In The Deep\" — Adele   \n",
       "40  2012  \"Somebody That I Used To Know\" — Gotye featuri...   \n",
       "41  2013  \"Thrift Shop\" — Macklemore & Ryan Lewis featur...   \n",
       "42  2014                        \"Happy\" — Pharrell Williams   \n",
       "43  2015  \"See You Again\" — Wiz Khalifa featuring Charli...   \n",
       "44  2016                    \"Love Yourself\" — Justin Bieber   \n",
       "45  2017  \"Despacito\" — Luis Fonsi and Daddy Yankee feat...   \n",
       "46  2018                               \"God's Plan\" — Drake   \n",
       "47  2019  \"Old Town Road\" by Lil Nas X featuring Billy R...   \n",
       "48  2020                    \"Blinding Lights\" by The Weeknd   \n",
       "49  2021                           \"Levitating\" by Dua Lipa   \n",
       "50  2022                      \"Heat Waves\" by Glass Animals   \n",
       "\n",
       "                        id  \n",
       "0   63xdwScd1Ai1GigAwQxE8y  \n",
       "1   5yr8pi3uCjTYOnTqstBBdm  \n",
       "2   1vZTgn4JXWMahR8r99ug5H  \n",
       "3   4pCNJwixy2ImFncaPY2yE2  \n",
       "4   5Qhfo6ZqoA2oPF5uFf43L3  \n",
       "5   6sIuXT6JNDeLJ5achFADtz  \n",
       "6   3unwRUV5qbjMmH3NJtaODy  \n",
       "7   1HOMkjp0nHMaTnfAkslCQj  \n",
       "8   7HKxTNVlkHsfMLhigmhC0I  \n",
       "9   0odIT9B9BvOCnXfS0e4lB5  \n",
       "10  3FuL7jThtUAjneBm6puQNk  \n",
       "11  1JSTJqkT5qHq8MDJnJbRE1  \n",
       "12  51H2y6YrNNXcy3dfc3qSbA  \n",
       "13  4jDmJ51x1o9NZB5Nxxc7gY  \n",
       "14  1cOj24fUMnBSXhtp7waHVW  \n",
       "15  1Jwc3ODLQxtbnS8M9TflSP  \n",
       "16  59eAcAyhYSLi5GKFrgHJzG  \n",
       "17  5VpJrXw5GRP0tSFXAzrRM5  \n",
       "18  4VZDv8sASBS8UruUBGTFdk  \n",
       "19  6eBK3edMW7bEzecF1eCezc  \n",
       "20  3l3xTXsUXeWlkPqzMs7mPD  \n",
       "21  4eHbdreAnSOrDDsFfc4Fpm  \n",
       "22  0hrBpAOgrt8RXigk83LLNE  \n",
       "23  1DIXPcTDzTj8ZMHt3PDt8p  \n",
       "24  6mhw2fEPH4fMF0wolNm96e  \n",
       "25  4l4mSq8IKgCMz0q9KFZ7tK  \n",
       "26  5IFCyWplye09HytIP80RCF  \n",
       "27  2goLsvvODILDzeeiT4dAoR  \n",
       "28  3y4LxiYMgDl4RethdzpmNe  \n",
       "29  0wqOReZDnrefefEsrIGeR4  \n",
       "30  0gmbgwZ8iqyMPmXefof8Yf  \n",
       "31  5Mcvgt2GbxxCp6cz3Kfjey  \n",
       "32  5rb9QrpfcKFHM1EUbSIurX  \n",
       "33  3LmvfNUQtglbTrydsdIqFU  \n",
       "34  0mUyMawtxj1CJ76kn9gIZK  \n",
       "35  6RX5iL93VZ5fKmyvNXvF1r  \n",
       "36  0CAfXk7DXMnon4gLudAp7J  \n",
       "37  3opVsyWVYEAFK9bJAG8Opa  \n",
       "38  0HPD5WQqrq7wPWR7P7Dw1i  \n",
       "39  1c8gk2PeTE04A1pIDH9YMk  \n",
       "40  4wCmqSrbyCgxEXROQE6vtV  \n",
       "41  1CmUZGtH29Kx36C1Hleqlz  \n",
       "42  60nZcImufyMA1MKQY3dcCH  \n",
       "43  2JzZzZUQj3Qff7wapcbKjc  \n",
       "44  50kpGaPAhYJ3sGmk6vplg0  \n",
       "45  3Gq2Dme9nesdgoqNNlcN8O  \n",
       "46  6DCZcSspjsKoFjzjrWoCdn  \n",
       "47  2YpeDb67231RjR0MgVLzsG  \n",
       "48  0VjIjW4GlUZAMYd2vXMi3b  \n",
       "49  39LLxExYz6ewLAcYrzQQyP  \n",
       "50  3USxtqRwSYz57Ewm6wWRMp  "
      ]
     },
     "execution_count": 132,
     "metadata": {},
     "output_type": "execute_result"
    }
   ],
   "source": [
    "pd.read_csv(\"Top Songs Each Year - Sheet1.csv\")"
   ]
  },
  {
   "cell_type": "code",
   "execution_count": 108,
   "id": "cb3b8b6c",
   "metadata": {},
   "outputs": [
    {
     "data": {
      "text/plain": [
       "dict_keys(['audio_features'])"
      ]
     },
     "execution_count": 108,
     "metadata": {},
     "output_type": "execute_result"
    }
   ],
   "source": [
    "data.keys()"
   ]
  },
  {
   "cell_type": "code",
   "execution_count": 109,
   "id": "d3ff8a7e",
   "metadata": {},
   "outputs": [
    {
     "data": {
      "text/plain": [
       "list"
      ]
     },
     "execution_count": 109,
     "metadata": {},
     "output_type": "execute_result"
    }
   ],
   "source": [
    "type(data['audio_features'])"
   ]
  },
  {
   "cell_type": "code",
   "execution_count": 111,
   "id": "4019eca7",
   "metadata": {},
   "outputs": [
    {
     "data": {
      "text/plain": [
       "dict_keys(['danceability', 'energy', 'key', 'loudness', 'mode', 'speechiness', 'acousticness', 'instrumentalness', 'liveness', 'valence', 'tempo', 'type', 'id', 'uri', 'track_href', 'analysis_url', 'duration_ms', 'time_signature'])"
      ]
     },
     "execution_count": 111,
     "metadata": {},
     "output_type": "execute_result"
    }
   ],
   "source": [
    "data['audio_features'][0].keys()"
   ]
  },
  {
   "cell_type": "code",
   "execution_count": 176,
   "id": "42bd1048",
   "metadata": {},
   "outputs": [],
   "source": [
    "x=-1"
   ]
  },
  {
   "cell_type": "code",
   "execution_count": 177,
   "id": "9d01e192",
   "metadata": {},
   "outputs": [
    {
     "data": {
      "text/plain": [
       "199396"
      ]
     },
     "execution_count": 177,
     "metadata": {},
     "output_type": "execute_result"
    }
   ],
   "source": [
    "x+=1\n",
    "data['audio_features'][x]['duration_ms']"
   ]
  },
  {
   "cell_type": "code",
   "execution_count": 178,
   "id": "0d641708",
   "metadata": {},
   "outputs": [
    {
     "data": {
      "text/plain": [
       "293768"
      ]
     },
     "execution_count": 178,
     "metadata": {},
     "output_type": "execute_result"
    }
   ],
   "source": [
    "x+=1\n",
    "data['audio_features'][x]['duration_ms']"
   ]
  },
  {
   "cell_type": "code",
   "execution_count": 179,
   "id": "d132da85",
   "metadata": {},
   "outputs": [
    {
     "data": {
      "text/plain": [
       "211093"
      ]
     },
     "execution_count": 179,
     "metadata": {},
     "output_type": "execute_result"
    }
   ],
   "source": [
    "x+=1\n",
    "data['audio_features'][x]['duration_ms']"
   ]
  },
  {
   "cell_type": "code",
   "execution_count": 180,
   "id": "f7d6c139",
   "metadata": {},
   "outputs": [
    {
     "data": {
      "text/plain": [
       "205493"
      ]
     },
     "execution_count": 180,
     "metadata": {},
     "output_type": "execute_result"
    }
   ],
   "source": [
    "x+=1\n",
    "data['audio_features'][x]['duration_ms']"
   ]
  },
  {
   "cell_type": "code",
   "execution_count": 181,
   "id": "67cfbcb3",
   "metadata": {},
   "outputs": [
    {
     "data": {
      "text/plain": [
       "354267"
      ]
     },
     "execution_count": 181,
     "metadata": {},
     "output_type": "execute_result"
    }
   ],
   "source": [
    "x+=1\n",
    "data['audio_features'][x]['duration_ms']"
   ]
  },
  {
   "cell_type": "code",
   "execution_count": 182,
   "id": "14cbb193",
   "metadata": {},
   "outputs": [
    {
     "data": {
      "text/plain": [
       "212867"
      ]
     },
     "execution_count": 182,
     "metadata": {},
     "output_type": "execute_result"
    }
   ],
   "source": [
    "x+=1\n",
    "data['audio_features'][x]['duration_ms']"
   ]
  },
  {
   "cell_type": "code",
   "execution_count": 183,
   "id": "7ba22438",
   "metadata": {},
   "outputs": [
    {
     "data": {
      "text/plain": [
       "276000"
      ]
     },
     "execution_count": 183,
     "metadata": {},
     "output_type": "execute_result"
    }
   ],
   "source": [
    "x+=1\n",
    "data['audio_features'][x]['duration_ms']"
   ]
  },
  {
   "cell_type": "code",
   "execution_count": 184,
   "id": "c70858f9",
   "metadata": {},
   "outputs": [
    {
     "data": {
      "text/plain": [
       "295400"
      ]
     },
     "execution_count": 184,
     "metadata": {},
     "output_type": "execute_result"
    }
   ],
   "source": [
    "x+=1\n",
    "data['audio_features'][x]['duration_ms']"
   ]
  },
  {
   "cell_type": "code",
   "execution_count": 185,
   "id": "69669c56",
   "metadata": {},
   "outputs": [
    {
     "data": {
      "text/plain": [
       "212227"
      ]
     },
     "execution_count": 185,
     "metadata": {},
     "output_type": "execute_result"
    }
   ],
   "source": [
    "x+=1\n",
    "data['audio_features'][x]['duration_ms']"
   ]
  },
  {
   "cell_type": "code",
   "execution_count": 186,
   "id": "9ba0d455",
   "metadata": {},
   "outputs": [
    {
     "data": {
      "text/plain": [
       "228000"
      ]
     },
     "execution_count": 186,
     "metadata": {},
     "output_type": "execute_result"
    }
   ],
   "source": [
    "x+=1\n",
    "data['audio_features'][x]['duration_ms']"
   ]
  },
  {
   "cell_type": "code",
   "execution_count": 187,
   "id": "d6e81ac9",
   "metadata": {},
   "outputs": [
    {
     "data": {
      "text/plain": [
       "222400"
      ]
     },
     "execution_count": 187,
     "metadata": {},
     "output_type": "execute_result"
    }
   ],
   "source": [
    "x+=1\n",
    "data['audio_features'][x]['duration_ms']"
   ]
  },
  {
   "cell_type": "code",
   "execution_count": 188,
   "id": "f2ba8feb",
   "metadata": {},
   "outputs": [
    {
     "data": {
      "text/plain": [
       "253920"
      ]
     },
     "execution_count": 188,
     "metadata": {},
     "output_type": "execute_result"
    }
   ],
   "source": [
    "x+=1\n",
    "data['audio_features'][x]['duration_ms']"
   ]
  },
  {
   "cell_type": "code",
   "execution_count": 189,
   "id": "3edc444f",
   "metadata": {},
   "outputs": [
    {
     "data": {
      "text/plain": [
       "352906"
      ]
     },
     "execution_count": 189,
     "metadata": {},
     "output_type": "execute_result"
    }
   ],
   "source": [
    "x+=1\n",
    "data['audio_features'][x]['duration_ms']"
   ]
  },
  {
   "cell_type": "code",
   "execution_count": 190,
   "id": "7bda8603",
   "metadata": {},
   "outputs": [
    {
     "data": {
      "text/plain": [
       "300107"
      ]
     },
     "execution_count": 190,
     "metadata": {},
     "output_type": "execute_result"
    }
   ],
   "source": [
    "x+=1\n",
    "data['audio_features'][x]['duration_ms']"
   ]
  },
  {
   "cell_type": "code",
   "execution_count": 191,
   "id": "7f33efb3",
   "metadata": {},
   "outputs": [
    {
     "data": {
      "text/plain": [
       "256467"
      ]
     },
     "execution_count": 191,
     "metadata": {},
     "output_type": "execute_result"
    }
   ],
   "source": [
    "x+=1\n",
    "data['audio_features'][x]['duration_ms']"
   ]
  },
  {
   "cell_type": "code",
   "execution_count": 192,
   "id": "3d91256d",
   "metadata": {},
   "outputs": [
    {
     "data": {
      "text/plain": [
       "204707"
      ]
     },
     "execution_count": 192,
     "metadata": {},
     "output_type": "execute_result"
    }
   ],
   "source": [
    "x+=1\n",
    "data['audio_features'][x]['duration_ms']"
   ]
  },
  {
   "cell_type": "code",
   "execution_count": 193,
   "id": "60777bfc",
   "metadata": {},
   "outputs": [
    {
     "data": {
      "text/plain": [
       "194493"
      ]
     },
     "execution_count": 193,
     "metadata": {},
     "output_type": "execute_result"
    }
   ],
   "source": [
    "x+=1\n",
    "data['audio_features'][x]['duration_ms']"
   ]
  },
  {
   "cell_type": "code",
   "execution_count": 194,
   "id": "4ea17f9a",
   "metadata": {},
   "outputs": [
    {
     "data": {
      "text/plain": [
       "240653"
      ]
     },
     "execution_count": 194,
     "metadata": {},
     "output_type": "execute_result"
    }
   ],
   "source": [
    "x+=1\n",
    "data['audio_features'][x]['duration_ms']"
   ]
  },
  {
   "cell_type": "code",
   "execution_count": 195,
   "id": "fe58213d",
   "metadata": {},
   "outputs": [
    {
     "data": {
      "text/plain": [
       "266867"
      ]
     },
     "execution_count": 195,
     "metadata": {},
     "output_type": "execute_result"
    }
   ],
   "source": [
    "x+=1\n",
    "data['audio_features'][x]['duration_ms']"
   ]
  },
  {
   "cell_type": "code",
   "execution_count": 196,
   "id": "3f171ab9",
   "metadata": {},
   "outputs": [
    {
     "data": {
      "text/plain": [
       "394133"
      ]
     },
     "execution_count": 196,
     "metadata": {},
     "output_type": "execute_result"
    }
   ],
   "source": [
    "x+=1\n",
    "data['audio_features'][x]['duration_ms']"
   ]
  },
  {
   "cell_type": "code",
   "execution_count": 197,
   "id": "9e0f1636",
   "metadata": {},
   "outputs": [
    {
     "data": {
      "text/plain": [
       "351467"
      ]
     },
     "execution_count": 197,
     "metadata": {},
     "output_type": "execute_result"
    }
   ],
   "source": [
    "x+=1\n",
    "data['audio_features'][x]['duration_ms']"
   ]
  },
  {
   "cell_type": "code",
   "execution_count": 198,
   "id": "5e50e991",
   "metadata": {},
   "outputs": [
    {
     "data": {
      "text/plain": [
       "271093"
      ]
     },
     "execution_count": 198,
     "metadata": {},
     "output_type": "execute_result"
    }
   ],
   "source": [
    "x+=1\n",
    "data['audio_features'][x]['duration_ms']"
   ]
  },
  {
   "cell_type": "code",
   "execution_count": 199,
   "id": "57caf34c",
   "metadata": {},
   "outputs": [
    {
     "data": {
      "text/plain": [
       "191240"
      ]
     },
     "execution_count": 199,
     "metadata": {},
     "output_type": "execute_result"
    }
   ],
   "source": [
    "x+=1\n",
    "data['audio_features'][x]['duration_ms']"
   ]
  },
  {
   "cell_type": "code",
   "execution_count": 200,
   "id": "12e3d892",
   "metadata": {},
   "outputs": [
    {
     "data": {
      "text/plain": [
       "240693"
      ]
     },
     "execution_count": 200,
     "metadata": {},
     "output_type": "execute_result"
    }
   ],
   "source": [
    "x+=1\n",
    "data['audio_features'][x]['duration_ms']"
   ]
  },
  {
   "cell_type": "code",
   "execution_count": 201,
   "id": "2c55f4f9",
   "metadata": {},
   "outputs": [
    {
     "data": {
      "text/plain": [
       "222627"
      ]
     },
     "execution_count": 201,
     "metadata": {},
     "output_type": "execute_result"
    }
   ],
   "source": [
    "x+=1\n",
    "data['audio_features'][x]['duration_ms']"
   ]
  },
  {
   "cell_type": "code",
   "execution_count": 202,
   "id": "701cffcb",
   "metadata": {},
   "outputs": [
    {
     "data": {
      "text/plain": [
       "308840"
      ]
     },
     "execution_count": 202,
     "metadata": {},
     "output_type": "execute_result"
    }
   ],
   "source": [
    "x+=1\n",
    "data['audio_features'][x]['duration_ms']"
   ]
  },
  {
   "cell_type": "code",
   "execution_count": 203,
   "id": "e80ec8af",
   "metadata": {},
   "outputs": [
    {
     "data": {
      "text/plain": [
       "259440"
      ]
     },
     "execution_count": 203,
     "metadata": {},
     "output_type": "execute_result"
    }
   ],
   "source": [
    "x+=1\n",
    "data['audio_features'][x]['duration_ms']"
   ]
  },
  {
   "cell_type": "code",
   "execution_count": 204,
   "id": "49b23614",
   "metadata": {},
   "outputs": [
    {
     "data": {
      "text/plain": [
       "239027"
      ]
     },
     "execution_count": 204,
     "metadata": {},
     "output_type": "execute_result"
    }
   ],
   "source": [
    "x+=1\n",
    "data['audio_features'][x]['duration_ms']"
   ]
  },
  {
   "cell_type": "code",
   "execution_count": 205,
   "id": "e52a11ab",
   "metadata": {},
   "outputs": [
    {
     "data": {
      "text/plain": [
       "250547"
      ]
     },
     "execution_count": 205,
     "metadata": {},
     "output_type": "execute_result"
    }
   ],
   "source": [
    "x+=1\n",
    "data['audio_features'][x]['duration_ms']"
   ]
  },
  {
   "cell_type": "code",
   "execution_count": 206,
   "id": "06abd8f5",
   "metadata": {},
   "outputs": [
    {
     "data": {
      "text/plain": [
       "216067"
      ]
     },
     "execution_count": 206,
     "metadata": {},
     "output_type": "execute_result"
    }
   ],
   "source": [
    "x+=1\n",
    "data['audio_features'][x]['duration_ms']"
   ]
  },
  {
   "cell_type": "code",
   "execution_count": 207,
   "id": "5d663f31",
   "metadata": {},
   "outputs": [
    {
     "data": {
      "text/plain": [
       "223840"
      ]
     },
     "execution_count": 207,
     "metadata": {},
     "output_type": "execute_result"
    }
   ],
   "source": [
    "x+=1\n",
    "data['audio_features'][x]['duration_ms']"
   ]
  },
  {
   "cell_type": "code",
   "execution_count": 208,
   "id": "9cadb6d6",
   "metadata": {},
   "outputs": [
    {
     "data": {
      "text/plain": [
       "193467"
      ]
     },
     "execution_count": 208,
     "metadata": {},
     "output_type": "execute_result"
    }
   ],
   "source": [
    "x+=1\n",
    "data['audio_features'][x]['duration_ms']"
   ]
  },
  {
   "cell_type": "code",
   "execution_count": 209,
   "id": "9032ca86",
   "metadata": {},
   "outputs": [
    {
     "data": {
      "text/plain": [
       "250373"
      ]
     },
     "execution_count": 209,
     "metadata": {},
     "output_type": "execute_result"
    }
   ],
   "source": [
    "x+=1\n",
    "data['audio_features'][x]['duration_ms']"
   ]
  },
  {
   "cell_type": "code",
   "execution_count": 210,
   "id": "6fb0579f",
   "metadata": {},
   "outputs": [
    {
     "data": {
      "text/plain": [
       "201400"
      ]
     },
     "execution_count": 210,
     "metadata": {},
     "output_type": "execute_result"
    }
   ],
   "source": [
    "x+=1\n",
    "data['audio_features'][x]['duration_ms']"
   ]
  },
  {
   "cell_type": "code",
   "execution_count": 211,
   "id": "fa855ddf",
   "metadata": {},
   "outputs": [
    {
     "data": {
      "text/plain": [
       "233640"
      ]
     },
     "execution_count": 211,
     "metadata": {},
     "output_type": "execute_result"
    }
   ],
   "source": [
    "x+=1\n",
    "data['audio_features'][x]['duration_ms']"
   ]
  },
  {
   "cell_type": "code",
   "execution_count": 212,
   "id": "d36ce75d",
   "metadata": {},
   "outputs": [
    {
     "data": {
      "text/plain": [
       "227853"
      ]
     },
     "execution_count": 212,
     "metadata": {},
     "output_type": "execute_result"
    }
   ],
   "source": [
    "x+=1\n",
    "data['audio_features'][x]['duration_ms']"
   ]
  },
  {
   "cell_type": "code",
   "execution_count": 213,
   "id": "b0bf858a",
   "metadata": {},
   "outputs": [
    {
     "data": {
      "text/plain": [
       "231400"
      ]
     },
     "execution_count": 213,
     "metadata": {},
     "output_type": "execute_result"
    }
   ],
   "source": [
    "x+=1\n",
    "data['audio_features'][x]['duration_ms']"
   ]
  },
  {
   "cell_type": "code",
   "execution_count": 214,
   "id": "8644e560",
   "metadata": {},
   "outputs": [
    {
     "data": {
      "text/plain": [
       "251440"
      ]
     },
     "execution_count": 214,
     "metadata": {},
     "output_type": "execute_result"
    }
   ],
   "source": [
    "x+=1\n",
    "data['audio_features'][x]['duration_ms']"
   ]
  },
  {
   "cell_type": "code",
   "execution_count": 215,
   "id": "cd0fc3f2",
   "metadata": {},
   "outputs": [
    {
     "data": {
      "text/plain": [
       "199693"
      ]
     },
     "execution_count": 215,
     "metadata": {},
     "output_type": "execute_result"
    }
   ],
   "source": [
    "x+=1\n",
    "data['audio_features'][x]['duration_ms']"
   ]
  },
  {
   "cell_type": "code",
   "execution_count": 216,
   "id": "b1a3e8e9",
   "metadata": {},
   "outputs": [
    {
     "data": {
      "text/plain": [
       "228093"
      ]
     },
     "execution_count": 216,
     "metadata": {},
     "output_type": "execute_result"
    }
   ],
   "source": [
    "x+=1\n",
    "data['audio_features'][x]['duration_ms']"
   ]
  },
  {
   "cell_type": "code",
   "execution_count": 217,
   "id": "90cf905b",
   "metadata": {},
   "outputs": [
    {
     "data": {
      "text/plain": [
       "244973"
      ]
     },
     "execution_count": 217,
     "metadata": {},
     "output_type": "execute_result"
    }
   ],
   "source": [
    "x+=1\n",
    "data['audio_features'][x]['duration_ms']"
   ]
  },
  {
   "cell_type": "code",
   "execution_count": 218,
   "id": "eafe555b",
   "metadata": {},
   "outputs": [
    {
     "data": {
      "text/plain": [
       "235613"
      ]
     },
     "execution_count": 218,
     "metadata": {},
     "output_type": "execute_result"
    }
   ],
   "source": [
    "x+=1\n",
    "data['audio_features'][x]['duration_ms']"
   ]
  },
  {
   "cell_type": "code",
   "execution_count": 219,
   "id": "6cbe6bfa",
   "metadata": {},
   "outputs": [
    {
     "data": {
      "text/plain": [
       "232720"
      ]
     },
     "execution_count": 219,
     "metadata": {},
     "output_type": "execute_result"
    }
   ],
   "source": [
    "x+=1\n",
    "data['audio_features'][x]['duration_ms']"
   ]
  },
  {
   "cell_type": "code",
   "execution_count": 220,
   "id": "f9fc60f5",
   "metadata": {},
   "outputs": [
    {
     "data": {
      "text/plain": [
       "229526"
      ]
     },
     "execution_count": 220,
     "metadata": {},
     "output_type": "execute_result"
    }
   ],
   "source": [
    "x+=1\n",
    "data['audio_features'][x]['duration_ms']"
   ]
  },
  {
   "cell_type": "code",
   "execution_count": 221,
   "id": "704a1803",
   "metadata": {},
   "outputs": [
    {
     "data": {
      "text/plain": [
       "233720"
      ]
     },
     "execution_count": 221,
     "metadata": {},
     "output_type": "execute_result"
    }
   ],
   "source": [
    "x+=1\n",
    "data['audio_features'][x]['duration_ms']"
   ]
  },
  {
   "cell_type": "markdown",
   "id": "33fc4676",
   "metadata": {},
   "source": [
    "I thought that with the rise of streaming services, that songs would have gotten shorter over the years, in an effort to get more streams on each song and more money from one work. After looking at the duration of each song, the lengths of songs haven't changed dramatically over the years."
   ]
  }
 ],
 "metadata": {
  "kernelspec": {
   "display_name": "Python 3 (ipykernel)",
   "language": "python",
   "name": "python3"
  },
  "language_info": {
   "codemirror_mode": {
    "name": "ipython",
    "version": 3
   },
   "file_extension": ".py",
   "mimetype": "text/x-python",
   "name": "python",
   "nbconvert_exporter": "python",
   "pygments_lexer": "ipython3",
   "version": "3.11.4"
  }
 },
 "nbformat": 4,
 "nbformat_minor": 5
}
