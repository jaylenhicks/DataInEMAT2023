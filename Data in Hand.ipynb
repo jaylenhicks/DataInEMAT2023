{
 "cells": [
  {
   "cell_type": "markdown",
   "id": "1cc3423c",
   "metadata": {},
   "source": [
    "https://www.sociomix.com/diaries/entertainment/the-problems-with-cancel-culture-and-popular-youtubers/1627615253"
   ]
  },
  {
   "cell_type": "markdown",
   "id": "b325d788",
   "metadata": {},
   "source": [
    "https://www.speakrj.com/audit/report/UCX6OQ3DkcsbYNE6H8uQQuVA/youtube"
   ]
  },
  {
   "cell_type": "markdown",
   "id": "cc26efcc",
   "metadata": {},
   "source": [
    "https://developers.google.com/youtube/v3"
   ]
  },
  {
   "cell_type": "markdown",
   "id": "a3e92665",
   "metadata": {},
   "source": [
    "https://socialblade.com/youtube/user/shane"
   ]
  }
 ],
 "metadata": {
  "kernelspec": {
   "display_name": "Python 3 (ipykernel)",
   "language": "python",
   "name": "python3"
  },
  "language_info": {
   "codemirror_mode": {
    "name": "ipython",
    "version": 3
   },
   "file_extension": ".py",
   "mimetype": "text/x-python",
   "name": "python",
   "nbconvert_exporter": "python",
   "pygments_lexer": "ipython3",
   "version": "3.11.4"
  }
 },
 "nbformat": 4,
 "nbformat_minor": 5
}
