{
 "cells": [
  {
   "cell_type": "markdown",
   "metadata": {
    "cell_id": "cfa87943f14c45a3b1fc645f5d261f89",
    "deepnote_cell_type": "code",
    "deepnote_to_be_reexecuted": false,
    "execution_millis": 13116,
    "execution_start": 1702313092532,
    "source_hash": "391f5c87"
   },
   "source": [
    "# Jaylen Hicks\n",
    "## Data in Hand"
   ]
  },
  {
   "cell_type": "code",
   "execution_count": 1,
   "metadata": {
    "cell_id": "1248ba1419f740a2bdbce3019254dd31",
    "deepnote_cell_type": "code",
    "deepnote_to_be_reexecuted": false,
    "execution_millis": 2402,
    "execution_start": 1702313105645,
    "source_hash": "3c4b311f"
   },
   "outputs": [
    {
     "ename": "KeyError",
     "evalue": "'API_KEY'",
     "output_type": "error",
     "traceback": [
      "\u001b[0;31m---------------------------------------------------------------------------\u001b[0m",
      "\u001b[0;31mKeyError\u001b[0m                                  Traceback (most recent call last)",
      "Cell \u001b[0;32mIn[1], line 7\u001b[0m\n\u001b[1;32m      5\u001b[0m \u001b[38;5;28;01mimport\u001b[39;00m \u001b[38;5;21;01mmatplotlib\u001b[39;00m\u001b[38;5;21;01m.\u001b[39;00m\u001b[38;5;21;01mpyplot\u001b[39;00m \u001b[38;5;28;01mas\u001b[39;00m \u001b[38;5;21;01mplt\u001b[39;00m\n\u001b[1;32m      6\u001b[0m \u001b[38;5;28;01mfrom\u001b[39;00m \u001b[38;5;21;01mgoogleapiclient\u001b[39;00m\u001b[38;5;21;01m.\u001b[39;00m\u001b[38;5;21;01mdiscovery\u001b[39;00m \u001b[38;5;28;01mimport\u001b[39;00m build \n\u001b[0;32m----> 7\u001b[0m API_KEY \u001b[38;5;241m=\u001b[39m os\u001b[38;5;241m.\u001b[39menviron[\u001b[38;5;124m\"\u001b[39m\u001b[38;5;124mAPI_KEY\u001b[39m\u001b[38;5;124m\"\u001b[39m]\n\u001b[1;32m      8\u001b[0m youtube \u001b[38;5;241m=\u001b[39m build(\u001b[38;5;124m'\u001b[39m\u001b[38;5;124myoutube\u001b[39m\u001b[38;5;124m'\u001b[39m, \u001b[38;5;124m'\u001b[39m\u001b[38;5;124mv3\u001b[39m\u001b[38;5;124m'\u001b[39m, developerKey\u001b[38;5;241m=\u001b[39mAPI_KEY)\n",
      "File \u001b[0;32m<frozen os>:679\u001b[0m, in \u001b[0;36m__getitem__\u001b[0;34m(self, key)\u001b[0m\n",
      "\u001b[0;31mKeyError\u001b[0m: 'API_KEY'"
     ]
    }
   ],
   "source": [
    "#Reference - https://www.youtube.com/watch?v=2mSwcRb3KjQ\n",
    "import os\n",
    "import pandas as pd\n",
    "import seaborn as sns\n",
    "import matplotlib.pyplot as plt\n",
    "from googleapiclient.discovery import build \n",
    "API_KEY = os.environ[\"API_KEY\"]\n",
    "youtube = build('youtube', 'v3', developerKey=API_KEY)"
   ]
  },
  {
   "cell_type": "code",
   "execution_count": 3,
   "metadata": {
    "cell_id": "84bc36a55e9f48e2807a22bf56126476",
    "deepnote_cell_type": "code",
    "deepnote_to_be_reexecuted": false,
    "execution_millis": 44,
    "execution_start": 1702313108048,
    "source_hash": "91ec9121"
   },
   "outputs": [],
   "source": [
    "channel_id = \"UCp0hYYBW6IMayGgR-WeoCvQ\"\n",
    "ellen_id = \"UCp0hYYBW6IMayGgR-WeoCvQ\"\n",
    "colleen_id = \"UCrbSjN1_5U7hqFKRA0nvFXQ\"\n",
    "logan_id = \"UCG8rbF3g2AMX70yOd8vqIZg\"\n",
    "will_id = \"UCKuHFYu3smtrl2AwwMOXOlg\"\n",
    "pew_id = \"UC-lHJZR3Gqxm24_Vd_AJ5Yw\""
   ]
  },
  {
   "cell_type": "code",
   "execution_count": 4,
   "metadata": {
    "cell_id": "4160fde0e27846b6a03e9ec0eb555fc1",
    "deepnote_cell_type": "code",
    "deepnote_to_be_reexecuted": false,
    "execution_millis": 40,
    "execution_start": 1702313108078,
    "source_hash": "d4a4caa9"
   },
   "outputs": [],
   "source": [
    "def get_channel_stats(youtube, channel_id):\n",
    "    request = youtube.channels().list(\n",
    "        part=\"snippet,contentDetails,statistics\",\n",
    "        id=channel_id\n",
    "    )\n",
    "    response = request.execute()\n",
    "    \n",
    "    return response['items']"
   ]
  },
  {
   "cell_type": "code",
   "execution_count": 5,
   "metadata": {
    "cell_id": "66ab1267fff74fb3bde28ffc0addc323",
    "deepnote_cell_type": "code",
    "deepnote_to_be_reexecuted": false,
    "execution_millis": 138,
    "execution_start": 1702313108082,
    "source_hash": "f956d739"
   },
   "outputs": [],
   "source": [
    "channel_stats = get_channel_stats(youtube, channel_id)"
   ]
  },
  {
   "cell_type": "code",
   "execution_count": 6,
   "metadata": {
    "cell_id": "96308ed55ff94ed49cf4f2474e126c80",
    "deepnote_cell_type": "code",
    "deepnote_to_be_reexecuted": false,
    "execution_millis": 75,
    "execution_start": 1702313108225,
    "source_hash": "d6405cfe"
   },
   "outputs": [],
   "source": [
    "playlist_id = channel_stats[0]['contentDetails']"
   ]
  },
  {
   "cell_type": "code",
   "execution_count": 7,
   "metadata": {
    "cell_id": "f30c34d4b4c148a19c7310ab79d74800",
    "deepnote_cell_type": "code",
    "deepnote_to_be_reexecuted": false,
    "execution_millis": 30,
    "execution_start": 1702313108272,
    "source_hash": "cf118c89"
   },
   "outputs": [],
   "source": [
    "def get_video_list(youtube, upload_id):\n",
    "    video_list = []\n",
    "    request = youtube.playlistItems().list(\n",
    "        part=\"snippet,contentDetails\",\n",
    "        playlistId=upload_id,\n",
    "        maxResults=50\n",
    "    )\n",
    "    next_page = True\n",
    "    while next_page:\n",
    "        response = request.execute()\n",
    "        data = response['items']\n",
    "\n",
    "        for video in data:\n",
    "            video_id = video['contentDetails']['videoId']\n",
    "            if video_id not in video_list:\n",
    "                video_list.append(video_id)\n",
    "\n",
    "        # Do we have more pages?\n",
    "        if 'nextPageToken' in response.keys():\n",
    "            next_page = True\n",
    "            request = youtube.playlistItems().list(\n",
    "                part=\"snippet,contentDetails\",\n",
    "                playlistId=upload_id,\n",
    "                pageToken=response['nextPageToken'],\n",
    "                maxResults=50\n",
    "            )\n",
    "        else:\n",
    "            next_page = False\n",
    "\n",
    "    return video_list"
   ]
  },
  {
   "cell_type": "code",
   "execution_count": 8,
   "metadata": {
    "cell_id": "5b6591427b864dec803374bd2a83a169",
    "deepnote_cell_type": "code",
    "deepnote_to_be_reexecuted": false,
    "execution_millis": 51,
    "execution_start": 1702313108273,
    "source_hash": "f956d739"
   },
   "outputs": [],
   "source": [
    "channel_stats = get_channel_stats(youtube, channel_id)"
   ]
  },
  {
   "cell_type": "code",
   "execution_count": 9,
   "metadata": {
    "cell_id": "7e66c09dff9c449787d49117a6f08ff8",
    "deepnote_cell_type": "code",
    "deepnote_to_be_reexecuted": false,
    "execution_millis": 75,
    "execution_start": 1702313108331,
    "source_hash": "44449701"
   },
   "outputs": [
    {
     "data": {
      "text/plain": [
       "'UUp0hYYBW6IMayGgR-WeoCvQ'"
      ]
     },
     "execution_count": 9,
     "metadata": {},
     "output_type": "execute_result"
    }
   ],
   "source": [
    "playlist_id = channel_stats[0]['contentDetails']['relatedPlaylists']['uploads']\n",
    "playlist_id"
   ]
  },
  {
   "cell_type": "code",
   "execution_count": 10,
   "metadata": {
    "cell_id": "3105b3c679ce4b14a7985a404010b054",
    "deepnote_cell_type": "code",
    "deepnote_to_be_reexecuted": false,
    "execution_millis": 50599,
    "execution_start": 1702313108343,
    "source_hash": "b189e0c4"
   },
   "outputs": [],
   "source": [
    "video_list = get_video_list(youtube, playlist_id)"
   ]
  },
  {
   "cell_type": "code",
   "execution_count": 11,
   "metadata": {
    "cell_id": "8fef15fdccc9459ca2f79756f9b280a4",
    "deepnote_cell_type": "code",
    "deepnote_to_be_reexecuted": false,
    "execution_millis": 14,
    "execution_start": 1702313158934,
    "source_hash": "1b1c742d"
   },
   "outputs": [],
   "source": [
    "def get_video_details(youtube, video_list):\n",
    "    stats_list=[]\n",
    "\n",
    "    # Can only get 50 videos at a time.\n",
    "    for i in range(0, len(video_list), 50):\n",
    "        request= youtube.videos().list(\n",
    "            part=\"snippet,contentDetails,statistics\",\n",
    "            id=video_list[i:i+50]\n",
    "        )\n",
    "\n",
    "        data = request.execute()\n",
    "        for video in data['items']:\n",
    "            title=video['snippet']['title']\n",
    "            published=video['snippet']['publishedAt']\n",
    "            description=video['snippet']['description']\n",
    "            tag_count= len(video['snippet'].get('tags',[]))\n",
    "            view_count=video['statistics'].get('viewCount',0)\n",
    "            like_count=video['statistics'].get('likeCount',0)\n",
    "            dislike_count=video['statistics'].get('dislikeCount',0)\n",
    "            comment_count=video['statistics'].get('commentCount',0)\n",
    "            stats_dict=dict(title=title, description=description, published=published, tag_count=tag_count, view_count=view_count, like_count=like_count, dislike_count=dislike_count, comment_count=comment_count)\n",
    "            stats_list.append(stats_dict)\n",
    "\n",
    "    return stats_list"
   ]
  },
  {
   "cell_type": "code",
   "execution_count": 12,
   "metadata": {
    "cell_id": "d2e5e1460f714c978078feb35ce45d2f",
    "deepnote_cell_type": "code",
    "deepnote_to_be_reexecuted": false,
    "execution_millis": 64981,
    "execution_start": 1702313158935,
    "source_hash": "8d88031b"
   },
   "outputs": [],
   "source": [
    "video_data = get_video_details(youtube, video_list)"
   ]
  },
  {
   "cell_type": "code",
   "execution_count": 13,
   "metadata": {
    "cell_id": "fd3dbd1c926843be949683bb2d15c74a",
    "deepnote_cell_type": "code",
    "deepnote_to_be_reexecuted": false,
    "execution_millis": 264,
    "execution_start": 1702313223909,
    "source_hash": "b3fdbdf5"
   },
   "outputs": [
    {
     "data": {
      "application/vnd.deepnote.dataframe.v3+json": {
       "column_count": 10,
       "columns": [
        {
         "dtype": "object",
         "name": "title",
         "stats": {
          "categories": [
           {
            "count": 1,
            "name": "Greg Kinnear Talks  “Stuck on You” in 2003"
           },
           {
            "count": 1,
            "name": "Ellen Needs Help Christmas Shopping"
           },
           {
            "count": 3,
            "name": "3 others"
           }
          ],
          "nan_count": 0,
          "unique_count": 5
         }
        },
        {
         "dtype": "object",
         "name": "description",
         "stats": {
          "categories": [
           {
            "count": 1,
            "name": "[Aired: December 17, 2003]\n\nGreg Kinnear talks about being locked to Matt Damon during the filming of “Stuck on You” and Ellen takes him fly fishing on set!\n\nSUBSCRIBE: https://ellen.tv/3D6Sewq \n\nFOLLOW ELLEN:\nInstagram - https://www.instagram.com/ellendegeneres/\nFacebook - https://www.facebook.com/ellentv/ \nTwitter - https://twitter.com/ellendegeneres\nTikTok - https://www.tiktok.com/@ellendegeneres  \nWebsite - https://www.ellentube.com/\n\nThe place for laughs, joy, stars, surprises, and everything Ellen.\n\n#ellen #theellenshow #ellendegeneres"
           },
           {
            "count": 1,
            "name": "[Aired: December 17, 2003]\n\nEllen wants her own cheerleaders to hype her up to go to the mall so she can get her daunting Christmas shopping done. Plus Ellen introduces Day 10 of the 12 days of Giveaways!\n\nSUBSCRIBE: https://ellen.tv/3D6Sewq \n\nFOLLOW ELLEN:\nInstagram - https://www.instagram.com/ellendegeneres/\nFacebook - https://www.facebook.com/ellentv/ \nTwitter - https://twitter.com/ellendegeneres\nTikTok - https://www.tiktok.com/@ellendegeneres  \nWebsite - https://www.ellentube.com/\n\nThe place for laughs, joy, stars, surprises, and everything Ellen.\n\n#ellen #theellenshow #ellendegeneres"
           },
           {
            "count": 3,
            "name": "3 others"
           }
          ],
          "nan_count": 0,
          "unique_count": 5
         }
        },
        {
         "dtype": "object",
         "name": "published",
         "stats": {
          "categories": [
           {
            "count": 1,
            "name": "2023-12-11T16:00:37Z"
           },
           {
            "count": 1,
            "name": "2023-12-11T15:00:43Z"
           },
           {
            "count": 3,
            "name": "3 others"
           }
          ],
          "nan_count": 0,
          "unique_count": 5
         }
        },
        {
         "dtype": "int64",
         "name": "tag_count",
         "stats": {
          "histogram": [
           {
            "bin_end": 20.6,
            "bin_start": 20.5,
            "count": 0
           },
           {
            "bin_end": 20.7,
            "bin_start": 20.6,
            "count": 0
           },
           {
            "bin_end": 20.8,
            "bin_start": 20.7,
            "count": 0
           },
           {
            "bin_end": 20.9,
            "bin_start": 20.8,
            "count": 0
           },
           {
            "bin_end": 21,
            "bin_start": 20.9,
            "count": 0
           },
           {
            "bin_end": 21.1,
            "bin_start": 21,
            "count": 5
           },
           {
            "bin_end": 21.2,
            "bin_start": 21.1,
            "count": 0
           },
           {
            "bin_end": 21.3,
            "bin_start": 21.2,
            "count": 0
           },
           {
            "bin_end": 21.4,
            "bin_start": 21.3,
            "count": 0
           },
           {
            "bin_end": 21.5,
            "bin_start": 21.4,
            "count": 0
           }
          ],
          "max": "21",
          "min": "21",
          "nan_count": 0,
          "unique_count": 1
         }
        },
        {
         "dtype": "int64",
         "name": "view_count",
         "stats": {
          "histogram": [
           {
            "bin_end": 4421.6,
            "bin_start": 642,
            "count": 3
           },
           {
            "bin_end": 8201.2,
            "bin_start": 4421.6,
            "count": 0
           },
           {
            "bin_end": 11980.8,
            "bin_start": 8201.2,
            "count": 0
           },
           {
            "bin_end": 15760.4,
            "bin_start": 11980.8,
            "count": 1
           },
           {
            "bin_end": 19540,
            "bin_start": 15760.4,
            "count": 0
           },
           {
            "bin_end": 23319.6,
            "bin_start": 19540,
            "count": 0
           },
           {
            "bin_end": 27099.2,
            "bin_start": 23319.6,
            "count": 0
           },
           {
            "bin_end": 30878.8,
            "bin_start": 27099.2,
            "count": 0
           },
           {
            "bin_end": 34658.4,
            "bin_start": 30878.8,
            "count": 0
           },
           {
            "bin_end": 38438,
            "bin_start": 34658.4,
            "count": 1
           }
          ],
          "max": "38438",
          "min": "642",
          "nan_count": 0,
          "unique_count": 5
         }
        },
        {
         "dtype": "int64",
         "name": "like_count",
         "stats": {
          "histogram": [
           {
            "bin_end": 284.2,
            "bin_start": 45,
            "count": 4
           },
           {
            "bin_end": 523.4,
            "bin_start": 284.2,
            "count": 0
           },
           {
            "bin_end": 762.5999999999999,
            "bin_start": 523.4,
            "count": 0
           },
           {
            "bin_end": 1001.8,
            "bin_start": 762.5999999999999,
            "count": 0
           },
           {
            "bin_end": 1241,
            "bin_start": 1001.8,
            "count": 0
           },
           {
            "bin_end": 1480.1999999999998,
            "bin_start": 1241,
            "count": 0
           },
           {
            "bin_end": 1719.3999999999999,
            "bin_start": 1480.1999999999998,
            "count": 0
           },
           {
            "bin_end": 1958.6,
            "bin_start": 1719.3999999999999,
            "count": 0
           },
           {
            "bin_end": 2197.7999999999997,
            "bin_start": 1958.6,
            "count": 0
           },
           {
            "bin_end": 2437,
            "bin_start": 2197.7999999999997,
            "count": 1
           }
          ],
          "max": "2437",
          "min": "45",
          "nan_count": 0,
          "unique_count": 5
         }
        },
        {
         "dtype": "int64",
         "name": "dislike_count",
         "stats": {
          "histogram": [
           {
            "bin_end": -0.4,
            "bin_start": -0.5,
            "count": 0
           },
           {
            "bin_end": -0.3,
            "bin_start": -0.4,
            "count": 0
           },
           {
            "bin_end": -0.19999999999999996,
            "bin_start": -0.3,
            "count": 0
           },
           {
            "bin_end": -0.09999999999999998,
            "bin_start": -0.19999999999999996,
            "count": 0
           },
           {
            "bin_end": 0,
            "bin_start": -0.09999999999999998,
            "count": 0
           },
           {
            "bin_end": 0.10000000000000009,
            "bin_start": 0,
            "count": 5
           },
           {
            "bin_end": 0.20000000000000007,
            "bin_start": 0.10000000000000009,
            "count": 0
           },
           {
            "bin_end": 0.30000000000000004,
            "bin_start": 0.20000000000000007,
            "count": 0
           },
           {
            "bin_end": 0.4,
            "bin_start": 0.30000000000000004,
            "count": 0
           },
           {
            "bin_end": 0.5,
            "bin_start": 0.4,
            "count": 0
           }
          ],
          "max": "0",
          "min": "0",
          "nan_count": 0,
          "unique_count": 1
         }
        },
        {
         "dtype": "int64",
         "name": "comment_count",
         "stats": {
          "histogram": [
           {
            "bin_end": 16.1,
            "bin_start": 7,
            "count": 3
           },
           {
            "bin_end": 25.2,
            "bin_start": 16.1,
            "count": 0
           },
           {
            "bin_end": 34.3,
            "bin_start": 25.2,
            "count": 1
           },
           {
            "bin_end": 43.4,
            "bin_start": 34.3,
            "count": 0
           },
           {
            "bin_end": 52.5,
            "bin_start": 43.4,
            "count": 0
           },
           {
            "bin_end": 61.599999999999994,
            "bin_start": 52.5,
            "count": 0
           },
           {
            "bin_end": 70.69999999999999,
            "bin_start": 61.599999999999994,
            "count": 0
           },
           {
            "bin_end": 79.8,
            "bin_start": 70.69999999999999,
            "count": 0
           },
           {
            "bin_end": 88.89999999999999,
            "bin_start": 79.8,
            "count": 0
           },
           {
            "bin_end": 98,
            "bin_start": 88.89999999999999,
            "count": 1
           }
          ],
          "max": "98",
          "min": "7",
          "nan_count": 0,
          "unique_count": 4
         }
        },
        {
         "dtype": "int64",
         "name": "title_length",
         "stats": {
          "histogram": [
           {
            "bin_end": 37.9,
            "bin_start": 35,
            "count": 1
           },
           {
            "bin_end": 40.8,
            "bin_start": 37.9,
            "count": 1
           },
           {
            "bin_end": 43.7,
            "bin_start": 40.8,
            "count": 2
           },
           {
            "bin_end": 46.6,
            "bin_start": 43.7,
            "count": 0
           },
           {
            "bin_end": 49.5,
            "bin_start": 46.6,
            "count": 0
           },
           {
            "bin_end": 52.4,
            "bin_start": 49.5,
            "count": 0
           },
           {
            "bin_end": 55.3,
            "bin_start": 52.4,
            "count": 0
           },
           {
            "bin_end": 58.2,
            "bin_start": 55.3,
            "count": 0
           },
           {
            "bin_end": 61.099999999999994,
            "bin_start": 58.2,
            "count": 0
           },
           {
            "bin_end": 64,
            "bin_start": 61.099999999999994,
            "count": 1
           }
          ],
          "max": "64",
          "min": "35",
          "nan_count": 0,
          "unique_count": 4
         }
        },
        {
         "dtype": "int64",
         "name": "reactions",
         "stats": {
          "histogram": [
           {
            "bin_end": 316.4,
            "bin_start": 59,
            "count": 4
           },
           {
            "bin_end": 573.8,
            "bin_start": 316.4,
            "count": 0
           },
           {
            "bin_end": 831.1999999999999,
            "bin_start": 573.8,
            "count": 0
           },
           {
            "bin_end": 1088.6,
            "bin_start": 831.1999999999999,
            "count": 0
           },
           {
            "bin_end": 1346,
            "bin_start": 1088.6,
            "count": 0
           },
           {
            "bin_end": 1603.3999999999999,
            "bin_start": 1346,
            "count": 0
           },
           {
            "bin_end": 1860.7999999999997,
            "bin_start": 1603.3999999999999,
            "count": 0
           },
           {
            "bin_end": 2118.2,
            "bin_start": 1860.7999999999997,
            "count": 0
           },
           {
            "bin_end": 2375.6,
            "bin_start": 2118.2,
            "count": 0
           },
           {
            "bin_end": 2633,
            "bin_start": 2375.6,
            "count": 1
           }
          ],
          "max": "2633",
          "min": "59",
          "nan_count": 0,
          "unique_count": 5
         }
        },
        {
         "dtype": "int64",
         "name": "_deepnote_index_column"
        }
       ],
       "row_count": 5,
       "rows": [
        {
         "_deepnote_index_column": 0,
         "comment_count": 7,
         "description": "[Aired: December 17, 2003]\n\nGreg Kinnear talks about being locked to Matt Damon during the filming of “Stuck on You” and Ellen takes him fly fishing on set!\n\nSUBSCRIBE: https://ellen.tv/3D6Sewq \n\nFOLLOW ELLEN:\nInstagram - https://www.instagram.com/ellendegeneres/\nFacebook - https://www.facebook.com/ellentv/ \nTwitter - https://twitter.com/ellendegeneres\nTikTok - https://www.tiktok.com/@ellendegeneres  \nWebsite - https://www.ellentube.com/\n\nThe place for laughs, joy, stars, surprises, and everything Ellen.\n\n#ellen #theellenshow #ellendegeneres",
         "dislike_count": 0,
         "like_count": 45,
         "published": "2023-12-11T16:00:37Z",
         "reactions": 59,
         "tag_count": 21,
         "title": "Greg Kinnear Talks  “Stuck on You” in 2003",
         "title_length": 42,
         "view_count": 642
        },
        {
         "_deepnote_index_column": 1,
         "comment_count": 13,
         "description": "[Aired: December 17, 2003]\n\nEllen wants her own cheerleaders to hype her up to go to the mall so she can get her daunting Christmas shopping done. Plus Ellen introduces Day 10 of the 12 days of Giveaways!\n\nSUBSCRIBE: https://ellen.tv/3D6Sewq \n\nFOLLOW ELLEN:\nInstagram - https://www.instagram.com/ellendegeneres/\nFacebook - https://www.facebook.com/ellentv/ \nTwitter - https://twitter.com/ellendegeneres\nTikTok - https://www.tiktok.com/@ellendegeneres  \nWebsite - https://www.ellentube.com/\n\nThe place for laughs, joy, stars, surprises, and everything Ellen.\n\n#ellen #theellenshow #ellendegeneres",
         "dislike_count": 0,
         "like_count": 83,
         "published": "2023-12-11T15:00:43Z",
         "reactions": 109,
         "tag_count": 21,
         "title": "Ellen Needs Help Christmas Shopping",
         "title_length": 35,
         "view_count": 950
        },
        {
         "_deepnote_index_column": 2,
         "comment_count": 7,
         "description": "",
         "dislike_count": 0,
         "like_count": 195,
         "published": "2023-12-11T14:00:14Z",
         "reactions": 209,
         "tag_count": 21,
         "title": "John Stamos Tries the Updog Joke 🐶 #shorts",
         "title_length": 42,
         "view_count": 1952
        },
        {
         "_deepnote_index_column": 3,
         "comment_count": 26,
         "description": "Ellen DeGeneres and Whitney Wolfe Herd team up to help Bree find the right match!\n\nSUBSCRIBE: https://ellen.tv/3D6Sewq \n\nFOLLOW ELLEN:\nInstagram - https://www.instagram.com/ellendegeneres/\nFacebook - https://www.facebook.com/ellentv/ \nTwitter - https://twitter.com/ellendegeneres\nTikTok - https://www.tiktok.com/@ellendegeneres  \nWebsite - https://www.ellentube.com/\n\nThe place for laughs, joy, stars, surprises, and everything Ellen.\n\n#ellen #theellenshow #ellendegeneres",
         "dislike_count": 0,
         "like_count": 130,
         "published": "2023-12-09T13:55:00Z",
         "reactions": 182,
         "tag_count": 21,
         "title": "Ellen Guides Single-Mom Bree on Her Quest for Love Using Bumble!",
         "title_length": 64,
         "view_count": 12923
        },
        {
         "_deepnote_index_column": 4,
         "comment_count": 98,
         "description": "Nicki Minaj created unforgettable memories on the \"Ellen\" show, each as vibrant as her ever-changing and iconic hair.\n\nSUBSCRIBE: https://ellen.tv/3D6Sewq \n\nFOLLOW ELLEN:\nInstagram - https://www.instagram.com/ellendegeneres/\nFacebook - https://www.facebook.com/ellentv/ \nTwitter - https://twitter.com/ellendegeneres\nTikTok - https://www.tiktok.com/@ellendegeneres  \nWebsite - https://www.ellentube.com/\n\nThe place for laughs, joy, stars, surprises, and everything Ellen.\n\n#ellen #theellenshow #ellendegeneres",
         "dislike_count": 0,
         "like_count": 2437,
         "published": "2023-12-08T21:00:09Z",
         "reactions": 2633,
         "tag_count": 21,
         "title": "Best of Nicki Minaj on the 'Ellen' Show",
         "title_length": 39,
         "view_count": 38438
        }
       ]
      },
      "text/html": [
       "<div>\n",
       "<style scoped>\n",
       "    .dataframe tbody tr th:only-of-type {\n",
       "        vertical-align: middle;\n",
       "    }\n",
       "\n",
       "    .dataframe tbody tr th {\n",
       "        vertical-align: top;\n",
       "    }\n",
       "\n",
       "    .dataframe thead th {\n",
       "        text-align: right;\n",
       "    }\n",
       "</style>\n",
       "<table border=\"1\" class=\"dataframe\">\n",
       "  <thead>\n",
       "    <tr style=\"text-align: right;\">\n",
       "      <th></th>\n",
       "      <th>title</th>\n",
       "      <th>description</th>\n",
       "      <th>published</th>\n",
       "      <th>tag_count</th>\n",
       "      <th>view_count</th>\n",
       "      <th>like_count</th>\n",
       "      <th>dislike_count</th>\n",
       "      <th>comment_count</th>\n",
       "      <th>title_length</th>\n",
       "      <th>reactions</th>\n",
       "    </tr>\n",
       "  </thead>\n",
       "  <tbody>\n",
       "    <tr>\n",
       "      <th>0</th>\n",
       "      <td>Greg Kinnear Talks  “Stuck on You” in 2003</td>\n",
       "      <td>[Aired: December 17, 2003]\\n\\nGreg Kinnear tal...</td>\n",
       "      <td>2023-12-11T16:00:37Z</td>\n",
       "      <td>21</td>\n",
       "      <td>642</td>\n",
       "      <td>45</td>\n",
       "      <td>0</td>\n",
       "      <td>7</td>\n",
       "      <td>42</td>\n",
       "      <td>59</td>\n",
       "    </tr>\n",
       "    <tr>\n",
       "      <th>1</th>\n",
       "      <td>Ellen Needs Help Christmas Shopping</td>\n",
       "      <td>[Aired: December 17, 2003]\\n\\nEllen wants her ...</td>\n",
       "      <td>2023-12-11T15:00:43Z</td>\n",
       "      <td>21</td>\n",
       "      <td>950</td>\n",
       "      <td>83</td>\n",
       "      <td>0</td>\n",
       "      <td>13</td>\n",
       "      <td>35</td>\n",
       "      <td>109</td>\n",
       "    </tr>\n",
       "    <tr>\n",
       "      <th>2</th>\n",
       "      <td>John Stamos Tries the Updog Joke 🐶 #shorts</td>\n",
       "      <td></td>\n",
       "      <td>2023-12-11T14:00:14Z</td>\n",
       "      <td>21</td>\n",
       "      <td>1952</td>\n",
       "      <td>195</td>\n",
       "      <td>0</td>\n",
       "      <td>7</td>\n",
       "      <td>42</td>\n",
       "      <td>209</td>\n",
       "    </tr>\n",
       "    <tr>\n",
       "      <th>3</th>\n",
       "      <td>Ellen Guides Single-Mom Bree on Her Quest for ...</td>\n",
       "      <td>Ellen DeGeneres and Whitney Wolfe Herd team up...</td>\n",
       "      <td>2023-12-09T13:55:00Z</td>\n",
       "      <td>21</td>\n",
       "      <td>12923</td>\n",
       "      <td>130</td>\n",
       "      <td>0</td>\n",
       "      <td>26</td>\n",
       "      <td>64</td>\n",
       "      <td>182</td>\n",
       "    </tr>\n",
       "    <tr>\n",
       "      <th>4</th>\n",
       "      <td>Best of Nicki Minaj on the 'Ellen' Show</td>\n",
       "      <td>Nicki Minaj created unforgettable memories on ...</td>\n",
       "      <td>2023-12-08T21:00:09Z</td>\n",
       "      <td>21</td>\n",
       "      <td>38438</td>\n",
       "      <td>2437</td>\n",
       "      <td>0</td>\n",
       "      <td>98</td>\n",
       "      <td>39</td>\n",
       "      <td>2633</td>\n",
       "    </tr>\n",
       "  </tbody>\n",
       "</table>\n",
       "</div>"
      ],
      "text/plain": [
       "                                               title  \\\n",
       "0         Greg Kinnear Talks  “Stuck on You” in 2003   \n",
       "1                Ellen Needs Help Christmas Shopping   \n",
       "2         John Stamos Tries the Updog Joke 🐶 #shorts   \n",
       "3  Ellen Guides Single-Mom Bree on Her Quest for ...   \n",
       "4            Best of Nicki Minaj on the 'Ellen' Show   \n",
       "\n",
       "                                         description             published  \\\n",
       "0  [Aired: December 17, 2003]\\n\\nGreg Kinnear tal...  2023-12-11T16:00:37Z   \n",
       "1  [Aired: December 17, 2003]\\n\\nEllen wants her ...  2023-12-11T15:00:43Z   \n",
       "2                                                     2023-12-11T14:00:14Z   \n",
       "3  Ellen DeGeneres and Whitney Wolfe Herd team up...  2023-12-09T13:55:00Z   \n",
       "4  Nicki Minaj created unforgettable memories on ...  2023-12-08T21:00:09Z   \n",
       "\n",
       "   tag_count  view_count  like_count  dislike_count  comment_count  \\\n",
       "0         21         642          45              0              7   \n",
       "1         21         950          83              0             13   \n",
       "2         21        1952         195              0              7   \n",
       "3         21       12923         130              0             26   \n",
       "4         21       38438        2437              0             98   \n",
       "\n",
       "   title_length  reactions  \n",
       "0            42         59  \n",
       "1            35        109  \n",
       "2            42        209  \n",
       "3            64        182  \n",
       "4            39       2633  "
      ]
     },
     "execution_count": 13,
     "metadata": {},
     "output_type": "execute_result"
    }
   ],
   "source": [
    "df=pd.DataFrame(video_data)\n",
    "df['title_length'] = df['title'].str.len()\n",
    "df[\"view_count\"] = pd.to_numeric(df[\"view_count\"])\n",
    "df[\"like_count\"] = pd.to_numeric(df[\"like_count\"])\n",
    "df[\"dislike_count\"] = pd.to_numeric(df[\"dislike_count\"])\n",
    "df[\"comment_count\"] = pd.to_numeric(df[\"comment_count\"])\n",
    "# reaction used later add up likes + dislikes + comments\n",
    "df[\"reactions\"] = df[\"like_count\"] + df[\"dislike_count\"] + df[\"comment_count\"] + df[\"comment_count\"]\n",
    "df.head()"
   ]
  },
  {
   "cell_type": "code",
   "execution_count": 15,
   "metadata": {
    "cell_id": "9e394a58ade94a1e85235fb17298e20d",
    "deepnote_cell_type": "code",
    "deepnote_to_be_reexecuted": false,
    "execution_millis": 22,
    "execution_start": 1702313224756,
    "source_hash": "19de9f68"
   },
   "outputs": [
    {
     "data": {
      "application/vnd.deepnote.dataframe.v3+json": {
       "column_count": 11,
       "columns": [
        {
         "dtype": "object",
         "name": "title",
         "stats": {
          "categories": [
           {
            "count": 1,
            "name": "Nicki Minaj Sings 'Super Bass' with Soph"
           },
           {
            "count": 1,
            "name": "The Perfect, Last-Minute Kids' Costumes!"
           },
           {
            "count": 8,
            "name": "8 others"
           }
          ],
          "nan_count": 0,
          "unique_count": 10
         }
        },
        {
         "dtype": "object",
         "name": "description",
         "stats": {
          "categories": [
           {
            "count": 1,
            "name": "We were all surprised when we saw Sophia Grace and Rosie's amazing performance of Super Bass on YouTube, but today the surprise was on them! These two girls had no idea they'd get the chance to meet their idol, Nicki Minaj and even perform a duet!\n\n#NickiMinaj\n#TheEllenShow\n#Ellen"
           },
           {
            "count": 1,
            "name": "Ellen's done it again! She's put together some terrific costumes for your kids this year."
           },
           {
            "count": 8,
            "name": "8 others"
           }
          ],
          "nan_count": 0,
          "unique_count": 10
         }
        },
        {
         "dtype": "object",
         "name": "published",
         "stats": {
          "categories": [
           {
            "count": 1,
            "name": "2011-10-12T19:59:00Z"
           },
           {
            "count": 1,
            "name": "2014-10-29T20:00:02Z"
           },
           {
            "count": 8,
            "name": "8 others"
           }
          ],
          "nan_count": 0,
          "unique_count": 10
         }
        },
        {
         "dtype": "int64",
         "name": "tag_count",
         "stats": {
          "histogram": [
           {
            "bin_end": 9.1,
            "bin_start": 6,
            "count": 1
           },
           {
            "bin_end": 12.2,
            "bin_start": 9.1,
            "count": 0
           },
           {
            "bin_end": 15.3,
            "bin_start": 12.2,
            "count": 1
           },
           {
            "bin_end": 18.4,
            "bin_start": 15.3,
            "count": 0
           },
           {
            "bin_end": 21.5,
            "bin_start": 18.4,
            "count": 0
           },
           {
            "bin_end": 24.6,
            "bin_start": 21.5,
            "count": 0
           },
           {
            "bin_end": 27.7,
            "bin_start": 24.6,
            "count": 1
           },
           {
            "bin_end": 30.8,
            "bin_start": 27.7,
            "count": 0
           },
           {
            "bin_end": 33.900000000000006,
            "bin_start": 30.8,
            "count": 4
           },
           {
            "bin_end": 37,
            "bin_start": 33.900000000000006,
            "count": 3
           }
          ],
          "max": "37",
          "min": "6",
          "nan_count": 0,
          "unique_count": 9
         }
        },
        {
         "dtype": "int64",
         "name": "view_count",
         "stats": {
          "histogram": [
           {
            "bin_end": 73643921.7,
            "bin_start": 65117407,
            "count": 3
           },
           {
            "bin_end": 82170436.4,
            "bin_start": 73643921.7,
            "count": 1
           },
           {
            "bin_end": 90696951.1,
            "bin_start": 82170436.4,
            "count": 1
           },
           {
            "bin_end": 99223465.8,
            "bin_start": 90696951.1,
            "count": 2
           },
           {
            "bin_end": 107749980.5,
            "bin_start": 99223465.8,
            "count": 0
           },
           {
            "bin_end": 116276495.19999999,
            "bin_start": 107749980.5,
            "count": 0
           },
           {
            "bin_end": 124803009.89999999,
            "bin_start": 116276495.19999999,
            "count": 1
           },
           {
            "bin_end": 133329524.6,
            "bin_start": 124803009.89999999,
            "count": 1
           },
           {
            "bin_end": 141856039.3,
            "bin_start": 133329524.6,
            "count": 0
           },
           {
            "bin_end": 150382554,
            "bin_start": 141856039.3,
            "count": 1
           }
          ],
          "max": "150382554",
          "min": "65117407",
          "nan_count": 0,
          "unique_count": 10
         }
        },
        {
         "dtype": "int64",
         "name": "like_count",
         "stats": {
          "histogram": [
           {
            "bin_end": 354842.6,
            "bin_start": 278310,
            "count": 2
           },
           {
            "bin_end": 431375.2,
            "bin_start": 354842.6,
            "count": 1
           },
           {
            "bin_end": 507907.80000000005,
            "bin_start": 431375.2,
            "count": 1
           },
           {
            "bin_end": 584440.4,
            "bin_start": 507907.80000000005,
            "count": 3
           },
           {
            "bin_end": 660973,
            "bin_start": 584440.4,
            "count": 1
           },
           {
            "bin_end": 737505.6000000001,
            "bin_start": 660973,
            "count": 0
           },
           {
            "bin_end": 814038.2000000001,
            "bin_start": 737505.6000000001,
            "count": 0
           },
           {
            "bin_end": 890570.8,
            "bin_start": 814038.2000000001,
            "count": 0
           },
           {
            "bin_end": 967103.4,
            "bin_start": 890570.8,
            "count": 0
           },
           {
            "bin_end": 1043636,
            "bin_start": 967103.4,
            "count": 2
           }
          ],
          "max": "1043636",
          "min": "278310",
          "nan_count": 0,
          "unique_count": 10
         }
        },
        {
         "dtype": "int64",
         "name": "dislike_count",
         "stats": {
          "histogram": [
           {
            "bin_end": -0.4,
            "bin_start": -0.5,
            "count": 0
           },
           {
            "bin_end": -0.3,
            "bin_start": -0.4,
            "count": 0
           },
           {
            "bin_end": -0.19999999999999996,
            "bin_start": -0.3,
            "count": 0
           },
           {
            "bin_end": -0.09999999999999998,
            "bin_start": -0.19999999999999996,
            "count": 0
           },
           {
            "bin_end": 0,
            "bin_start": -0.09999999999999998,
            "count": 0
           },
           {
            "bin_end": 0.10000000000000009,
            "bin_start": 0,
            "count": 10
           },
           {
            "bin_end": 0.20000000000000007,
            "bin_start": 0.10000000000000009,
            "count": 0
           },
           {
            "bin_end": 0.30000000000000004,
            "bin_start": 0.20000000000000007,
            "count": 0
           },
           {
            "bin_end": 0.4,
            "bin_start": 0.30000000000000004,
            "count": 0
           },
           {
            "bin_end": 0.5,
            "bin_start": 0.4,
            "count": 0
           }
          ],
          "max": "0",
          "min": "0",
          "nan_count": 0,
          "unique_count": 1
         }
        },
        {
         "dtype": "int64",
         "name": "comment_count",
         "stats": {
          "histogram": [
           {
            "bin_end": 9589.4,
            "bin_start": 0,
            "count": 4
           },
           {
            "bin_end": 19178.8,
            "bin_start": 9589.4,
            "count": 2
           },
           {
            "bin_end": 28768.199999999997,
            "bin_start": 19178.8,
            "count": 0
           },
           {
            "bin_end": 38357.6,
            "bin_start": 28768.199999999997,
            "count": 1
           },
           {
            "bin_end": 47947,
            "bin_start": 38357.6,
            "count": 1
           },
           {
            "bin_end": 57536.399999999994,
            "bin_start": 47947,
            "count": 1
           },
           {
            "bin_end": 67125.8,
            "bin_start": 57536.399999999994,
            "count": 0
           },
           {
            "bin_end": 76715.2,
            "bin_start": 67125.8,
            "count": 0
           },
           {
            "bin_end": 86304.59999999999,
            "bin_start": 76715.2,
            "count": 0
           },
           {
            "bin_end": 95894,
            "bin_start": 86304.59999999999,
            "count": 1
           }
          ],
          "max": "95894",
          "min": "0",
          "nan_count": 0,
          "unique_count": 7
         }
        },
        {
         "dtype": "int64",
         "name": "title_length",
         "stats": {
          "histogram": [
           {
            "bin_end": 21.6,
            "bin_start": 17,
            "count": 2
           },
           {
            "bin_end": 26.2,
            "bin_start": 21.6,
            "count": 0
           },
           {
            "bin_end": 30.799999999999997,
            "bin_start": 26.2,
            "count": 1
           },
           {
            "bin_end": 35.4,
            "bin_start": 30.799999999999997,
            "count": 0
           },
           {
            "bin_end": 40,
            "bin_start": 35.4,
            "count": 0
           },
           {
            "bin_end": 44.599999999999994,
            "bin_start": 40,
            "count": 2
           },
           {
            "bin_end": 49.199999999999996,
            "bin_start": 44.599999999999994,
            "count": 3
           },
           {
            "bin_end": 53.8,
            "bin_start": 49.199999999999996,
            "count": 1
           },
           {
            "bin_end": 58.4,
            "bin_start": 53.8,
            "count": 0
           },
           {
            "bin_end": 63,
            "bin_start": 58.4,
            "count": 1
           }
          ],
          "max": "63",
          "min": "17",
          "nan_count": 0,
          "unique_count": 10
         }
        },
        {
         "dtype": "int64",
         "name": "reactions",
         "stats": {
          "histogram": [
           {
            "bin_end": 439029.3,
            "bin_start": 358558,
            "count": 3
           },
           {
            "bin_end": 519500.6,
            "bin_start": 439029.3,
            "count": 2
           },
           {
            "bin_end": 599971.9,
            "bin_start": 519500.6,
            "count": 2
           },
           {
            "bin_end": 680443.2,
            "bin_start": 599971.9,
            "count": 1
           },
           {
            "bin_end": 760914.5,
            "bin_start": 680443.2,
            "count": 0
           },
           {
            "bin_end": 841385.8,
            "bin_start": 760914.5,
            "count": 0
           },
           {
            "bin_end": 921857.1,
            "bin_start": 841385.8,
            "count": 0
           },
           {
            "bin_end": 1002328.4,
            "bin_start": 921857.1,
            "count": 0
           },
           {
            "bin_end": 1082799.7000000002,
            "bin_start": 1002328.4,
            "count": 1
           },
           {
            "bin_end": 1163271,
            "bin_start": 1082799.7000000002,
            "count": 1
           }
          ],
          "max": "1163271",
          "min": "358558",
          "nan_count": 0,
          "unique_count": 10
         }
        },
        {
         "dtype": "float64",
         "name": "view_count_millions",
         "stats": {
          "histogram": [
           {
            "bin_end": 73.64392169999999,
            "bin_start": 65.117407,
            "count": 3
           },
           {
            "bin_end": 82.1704364,
            "bin_start": 73.64392169999999,
            "count": 1
           },
           {
            "bin_end": 90.6969511,
            "bin_start": 82.1704364,
            "count": 1
           },
           {
            "bin_end": 99.2234658,
            "bin_start": 90.6969511,
            "count": 2
           },
           {
            "bin_end": 107.74998049999999,
            "bin_start": 99.2234658,
            "count": 0
           },
           {
            "bin_end": 116.2764952,
            "bin_start": 107.74998049999999,
            "count": 0
           },
           {
            "bin_end": 124.8030099,
            "bin_start": 116.2764952,
            "count": 1
           },
           {
            "bin_end": 133.3295246,
            "bin_start": 124.8030099,
            "count": 1
           },
           {
            "bin_end": 141.85603930000002,
            "bin_start": 133.3295246,
            "count": 0
           },
           {
            "bin_end": 150.382554,
            "bin_start": 141.85603930000002,
            "count": 1
           }
          ],
          "max": "150.382554",
          "min": "65.117407",
          "nan_count": 0,
          "unique_count": 10
         }
        },
        {
         "dtype": "int64",
         "name": "_deepnote_index_column"
        }
       ],
       "row_count": 10,
       "rows": [
        {
         "_deepnote_index_column": 14294,
         "comment_count": 95894,
         "description": "We were all surprised when we saw Sophia Grace and Rosie's amazing performance of Super Bass on YouTube, but today the surprise was on them! These two girls had no idea they'd get the chance to meet their idol, Nicki Minaj and even perform a duet!\n\n#NickiMinaj\n#TheEllenShow\n#Ellen",
         "dislike_count": 0,
         "like_count": 971483,
         "published": "2011-10-12T19:59:00Z",
         "reactions": 1163271,
         "tag_count": 26,
         "title": "Nicki Minaj Sings 'Super Bass' with Soph",
         "title_length": 63,
         "view_count": 150382554,
         "view_count_millions": 150.382554
        },
        {
         "_deepnote_index_column": 11788,
         "comment_count": 0,
         "description": "Ellen's done it again! She's put together some terrific costumes for your kids this year.",
         "dislike_count": 0,
         "like_count": 510945,
         "published": "2014-10-29T20:00:02Z",
         "reactions": 510945,
         "tag_count": 33,
         "title": "The Perfect, Last-Minute Kids' Costumes!",
         "title_length": 40,
         "view_count": 127489327,
         "view_count_millions": 127.489327
        },
        {
         "_deepnote_index_column": 10638,
         "comment_count": 0,
         "description": "Three-year-old Mila is Adam's biggest (little) fan, and had quite the reaction when she found out he was married!",
         "dislike_count": 0,
         "like_count": 1043636,
         "published": "2015-10-16T13:00:02Z",
         "reactions": 1043636,
         "tag_count": 31,
         "title": "Adam Levine's New Girlfriend",
         "title_length": 28,
         "view_count": 116834662,
         "view_count_millions": 116.834662
        },
        {
         "_deepnote_index_column": 9050,
         "comment_count": 14903,
         "description": "Ellen debuted a brand new game of monstrous proportions!",
         "dislike_count": 0,
         "like_count": 380088,
         "published": "2017-04-07T13:01:00Z",
         "reactions": 409894,
         "tag_count": 13,
         "title": "One-Eyed Monster!",
         "title_length": 17,
         "view_count": 92267231,
         "view_count_millions": 92.267231
        },
        {
         "_deepnote_index_column": 9980,
         "comment_count": 0,
         "description": "Emma isn't just an adorable toddler, she's also a gymnastics prodigy. Check out this little gymnast's amazing skills!",
         "dislike_count": 0,
         "like_count": 592438,
         "published": "2016-03-24T13:00:01Z",
         "reactions": 592438,
         "tag_count": 31,
         "title": "This 3-Year-Old Gymnast Is Flipping Awes",
         "title_length": 43,
         "view_count": 91178638,
         "view_count_millions": 91.178638
        },
        {
         "_deepnote_index_column": 10699,
         "comment_count": 0,
         "description": "Watch what happened when Ellen and her audience played a very special – and very live – round of Epic or Fail.",
         "dislike_count": 0,
         "like_count": 477500,
         "published": "2015-10-01T19:00:01Z",
         "reactions": 477500,
         "tag_count": 32,
         "title": "Epic or Fail LIVE!",
         "title_length": 18,
         "view_count": 82756156,
         "view_count_millions": 82.756156
        },
        {
         "_deepnote_index_column": 11528,
         "comment_count": 12382,
         "description": "Bruno Mars and Mark Ronson were here for an incredible reenactment of the video for their unstoppable song! Everyone got in on the fun.",
         "dislike_count": 0,
         "like_count": 561647,
         "published": "2015-01-14T14:00:20Z",
         "reactions": 586411,
         "tag_count": 36,
         "title": "Mark Ronson & Bruno Mars Perform 'Uptown",
         "title_length": 46,
         "view_count": 81276461,
         "view_count_millions": 81.276461
        },
        {
         "_deepnote_index_column": 14218,
         "comment_count": 40124,
         "description": "They're back! And this time, they performed another chart-topping hit.\r\nSophia Grace and Rosie sang ³Rolling in the Deep.\" From rap to a soulful\r\njazz song, these two always know how to work the crowd!",
         "dislike_count": 0,
         "like_count": 278310,
         "published": "2011-11-09T03:14:35Z",
         "reactions": 358558,
         "tag_count": 37,
         "title": "Sophia Grace and Rosie Sing 'Rolling in ",
         "title_length": 49,
         "view_count": 72012359,
         "view_count_millions": 72.012359
        },
        {
         "_deepnote_index_column": 13665,
         "comment_count": 31967,
         "description": "Korean pop star and YouTube sensation Psy gave Britney Spears a surprise visit on the show, and taught her his famous horse dance!",
         "dislike_count": 0,
         "like_count": 308207,
         "published": "2012-09-11T03:33:08Z",
         "reactions": 372141,
         "tag_count": 6,
         "title": "Surprise! Britney Learns 'Gangnam Style'",
         "title_length": 50,
         "view_count": 65239191,
         "view_count_millions": 65.239191
        },
        {
         "_deepnote_index_column": 14839,
         "comment_count": 55114,
         "description": "An Ellen viewer, Paige, is a huge Justin Bieber fan, so Ellen set up a big surprise for Paige at her house -- Justin himself! Then Ellen had another surprise for her in the studio!",
         "dislike_count": 0,
         "like_count": 566204,
         "published": "2011-02-09T17:25:16Z",
         "reactions": 676432,
         "tag_count": 34,
         "title": "A Huge Surprise for Justin Bieber's Supe",
         "title_length": 45,
         "view_count": 65117407,
         "view_count_millions": 65.117407
        }
       ]
      },
      "text/html": [
       "<div>\n",
       "<style scoped>\n",
       "    .dataframe tbody tr th:only-of-type {\n",
       "        vertical-align: middle;\n",
       "    }\n",
       "\n",
       "    .dataframe tbody tr th {\n",
       "        vertical-align: top;\n",
       "    }\n",
       "\n",
       "    .dataframe thead th {\n",
       "        text-align: right;\n",
       "    }\n",
       "</style>\n",
       "<table border=\"1\" class=\"dataframe\">\n",
       "  <thead>\n",
       "    <tr style=\"text-align: right;\">\n",
       "      <th></th>\n",
       "      <th>title</th>\n",
       "      <th>description</th>\n",
       "      <th>published</th>\n",
       "      <th>tag_count</th>\n",
       "      <th>view_count</th>\n",
       "      <th>like_count</th>\n",
       "      <th>dislike_count</th>\n",
       "      <th>comment_count</th>\n",
       "      <th>title_length</th>\n",
       "      <th>reactions</th>\n",
       "      <th>view_count_millions</th>\n",
       "    </tr>\n",
       "  </thead>\n",
       "  <tbody>\n",
       "    <tr>\n",
       "      <th>14294</th>\n",
       "      <td>Nicki Minaj Sings 'Super Bass' with Soph</td>\n",
       "      <td>We were all surprised when we saw Sophia Grace...</td>\n",
       "      <td>2011-10-12T19:59:00Z</td>\n",
       "      <td>26</td>\n",
       "      <td>150382554</td>\n",
       "      <td>971483</td>\n",
       "      <td>0</td>\n",
       "      <td>95894</td>\n",
       "      <td>63</td>\n",
       "      <td>1163271</td>\n",
       "      <td>150.382554</td>\n",
       "    </tr>\n",
       "    <tr>\n",
       "      <th>11788</th>\n",
       "      <td>The Perfect, Last-Minute Kids' Costumes!</td>\n",
       "      <td>Ellen's done it again! She's put together some...</td>\n",
       "      <td>2014-10-29T20:00:02Z</td>\n",
       "      <td>33</td>\n",
       "      <td>127489327</td>\n",
       "      <td>510945</td>\n",
       "      <td>0</td>\n",
       "      <td>0</td>\n",
       "      <td>40</td>\n",
       "      <td>510945</td>\n",
       "      <td>127.489327</td>\n",
       "    </tr>\n",
       "    <tr>\n",
       "      <th>10638</th>\n",
       "      <td>Adam Levine's New Girlfriend</td>\n",
       "      <td>Three-year-old Mila is Adam's biggest (little)...</td>\n",
       "      <td>2015-10-16T13:00:02Z</td>\n",
       "      <td>31</td>\n",
       "      <td>116834662</td>\n",
       "      <td>1043636</td>\n",
       "      <td>0</td>\n",
       "      <td>0</td>\n",
       "      <td>28</td>\n",
       "      <td>1043636</td>\n",
       "      <td>116.834662</td>\n",
       "    </tr>\n",
       "    <tr>\n",
       "      <th>9050</th>\n",
       "      <td>One-Eyed Monster!</td>\n",
       "      <td>Ellen debuted a brand new game of monstrous pr...</td>\n",
       "      <td>2017-04-07T13:01:00Z</td>\n",
       "      <td>13</td>\n",
       "      <td>92267231</td>\n",
       "      <td>380088</td>\n",
       "      <td>0</td>\n",
       "      <td>14903</td>\n",
       "      <td>17</td>\n",
       "      <td>409894</td>\n",
       "      <td>92.267231</td>\n",
       "    </tr>\n",
       "    <tr>\n",
       "      <th>9980</th>\n",
       "      <td>This 3-Year-Old Gymnast Is Flipping Awes</td>\n",
       "      <td>Emma isn't just an adorable toddler, she's als...</td>\n",
       "      <td>2016-03-24T13:00:01Z</td>\n",
       "      <td>31</td>\n",
       "      <td>91178638</td>\n",
       "      <td>592438</td>\n",
       "      <td>0</td>\n",
       "      <td>0</td>\n",
       "      <td>43</td>\n",
       "      <td>592438</td>\n",
       "      <td>91.178638</td>\n",
       "    </tr>\n",
       "    <tr>\n",
       "      <th>10699</th>\n",
       "      <td>Epic or Fail LIVE!</td>\n",
       "      <td>Watch what happened when Ellen and her audienc...</td>\n",
       "      <td>2015-10-01T19:00:01Z</td>\n",
       "      <td>32</td>\n",
       "      <td>82756156</td>\n",
       "      <td>477500</td>\n",
       "      <td>0</td>\n",
       "      <td>0</td>\n",
       "      <td>18</td>\n",
       "      <td>477500</td>\n",
       "      <td>82.756156</td>\n",
       "    </tr>\n",
       "    <tr>\n",
       "      <th>11528</th>\n",
       "      <td>Mark Ronson &amp; Bruno Mars Perform 'Uptown</td>\n",
       "      <td>Bruno Mars and Mark Ronson were here for an in...</td>\n",
       "      <td>2015-01-14T14:00:20Z</td>\n",
       "      <td>36</td>\n",
       "      <td>81276461</td>\n",
       "      <td>561647</td>\n",
       "      <td>0</td>\n",
       "      <td>12382</td>\n",
       "      <td>46</td>\n",
       "      <td>586411</td>\n",
       "      <td>81.276461</td>\n",
       "    </tr>\n",
       "    <tr>\n",
       "      <th>14218</th>\n",
       "      <td>Sophia Grace and Rosie Sing 'Rolling in</td>\n",
       "      <td>They're back! And this time, they performed an...</td>\n",
       "      <td>2011-11-09T03:14:35Z</td>\n",
       "      <td>37</td>\n",
       "      <td>72012359</td>\n",
       "      <td>278310</td>\n",
       "      <td>0</td>\n",
       "      <td>40124</td>\n",
       "      <td>49</td>\n",
       "      <td>358558</td>\n",
       "      <td>72.012359</td>\n",
       "    </tr>\n",
       "    <tr>\n",
       "      <th>13665</th>\n",
       "      <td>Surprise! Britney Learns 'Gangnam Style'</td>\n",
       "      <td>Korean pop star and YouTube sensation Psy gave...</td>\n",
       "      <td>2012-09-11T03:33:08Z</td>\n",
       "      <td>6</td>\n",
       "      <td>65239191</td>\n",
       "      <td>308207</td>\n",
       "      <td>0</td>\n",
       "      <td>31967</td>\n",
       "      <td>50</td>\n",
       "      <td>372141</td>\n",
       "      <td>65.239191</td>\n",
       "    </tr>\n",
       "    <tr>\n",
       "      <th>14839</th>\n",
       "      <td>A Huge Surprise for Justin Bieber's Supe</td>\n",
       "      <td>An Ellen viewer, Paige, is a huge Justin Biebe...</td>\n",
       "      <td>2011-02-09T17:25:16Z</td>\n",
       "      <td>34</td>\n",
       "      <td>65117407</td>\n",
       "      <td>566204</td>\n",
       "      <td>0</td>\n",
       "      <td>55114</td>\n",
       "      <td>45</td>\n",
       "      <td>676432</td>\n",
       "      <td>65.117407</td>\n",
       "    </tr>\n",
       "  </tbody>\n",
       "</table>\n",
       "</div>"
      ],
      "text/plain": [
       "                                          title  \\\n",
       "14294  Nicki Minaj Sings 'Super Bass' with Soph   \n",
       "11788  The Perfect, Last-Minute Kids' Costumes!   \n",
       "10638              Adam Levine's New Girlfriend   \n",
       "9050                          One-Eyed Monster!   \n",
       "9980   This 3-Year-Old Gymnast Is Flipping Awes   \n",
       "10699                        Epic or Fail LIVE!   \n",
       "11528  Mark Ronson & Bruno Mars Perform 'Uptown   \n",
       "14218  Sophia Grace and Rosie Sing 'Rolling in    \n",
       "13665  Surprise! Britney Learns 'Gangnam Style'   \n",
       "14839  A Huge Surprise for Justin Bieber's Supe   \n",
       "\n",
       "                                             description  \\\n",
       "14294  We were all surprised when we saw Sophia Grace...   \n",
       "11788  Ellen's done it again! She's put together some...   \n",
       "10638  Three-year-old Mila is Adam's biggest (little)...   \n",
       "9050   Ellen debuted a brand new game of monstrous pr...   \n",
       "9980   Emma isn't just an adorable toddler, she's als...   \n",
       "10699  Watch what happened when Ellen and her audienc...   \n",
       "11528  Bruno Mars and Mark Ronson were here for an in...   \n",
       "14218  They're back! And this time, they performed an...   \n",
       "13665  Korean pop star and YouTube sensation Psy gave...   \n",
       "14839  An Ellen viewer, Paige, is a huge Justin Biebe...   \n",
       "\n",
       "                  published  tag_count  view_count  like_count  dislike_count  \\\n",
       "14294  2011-10-12T19:59:00Z         26   150382554      971483              0   \n",
       "11788  2014-10-29T20:00:02Z         33   127489327      510945              0   \n",
       "10638  2015-10-16T13:00:02Z         31   116834662     1043636              0   \n",
       "9050   2017-04-07T13:01:00Z         13    92267231      380088              0   \n",
       "9980   2016-03-24T13:00:01Z         31    91178638      592438              0   \n",
       "10699  2015-10-01T19:00:01Z         32    82756156      477500              0   \n",
       "11528  2015-01-14T14:00:20Z         36    81276461      561647              0   \n",
       "14218  2011-11-09T03:14:35Z         37    72012359      278310              0   \n",
       "13665  2012-09-11T03:33:08Z          6    65239191      308207              0   \n",
       "14839  2011-02-09T17:25:16Z         34    65117407      566204              0   \n",
       "\n",
       "       comment_count  title_length  reactions  view_count_millions  \n",
       "14294          95894            63    1163271           150.382554  \n",
       "11788              0            40     510945           127.489327  \n",
       "10638              0            28    1043636           116.834662  \n",
       "9050           14903            17     409894            92.267231  \n",
       "9980               0            43     592438            91.178638  \n",
       "10699              0            18     477500            82.756156  \n",
       "11528          12382            46     586411            81.276461  \n",
       "14218          40124            49     358558            72.012359  \n",
       "13665          31967            50     372141            65.239191  \n",
       "14839          55114            45     676432            65.117407  "
      ]
     },
     "execution_count": 15,
     "metadata": {},
     "output_type": "execute_result"
    }
   ],
   "source": [
    "df_highest_views = df.nlargest(10, 'view_count')\n",
    "df_highest_views['title'] = df_highest_views['title'].str[:40]\n",
    "df_highest_views['view_count_millions'] = df_highest_views['view_count'] / 1000000\n",
    "df_highest_views"
   ]
  },
  {
   "cell_type": "code",
   "execution_count": 17,
   "metadata": {
    "cell_id": "d8886f940dde4a0daaaecae95fa27c27",
    "deepnote_cell_type": "code",
    "deepnote_to_be_reexecuted": false,
    "execution_millis": 28,
    "execution_start": 1702313225724,
    "source_hash": "741b8a0d"
   },
   "outputs": [
    {
     "data": {
      "application/vnd.deepnote.dataframe.v3+json": {
       "column_count": 10,
       "columns": [
        {
         "dtype": "object",
         "name": "title",
         "stats": {
          "categories": [
           {
            "count": 1,
            "name": "Then and now: Sophia Grace and Rosie per"
           },
           {
            "count": 1,
            "name": "BTS Get Scared by a Fangirl"
           },
           {
            "count": 8,
            "name": "8 others"
           }
          ],
          "nan_count": 0,
          "unique_count": 10
         }
        },
        {
         "dtype": "object",
         "name": "description",
         "stats": {
          "categories": [
           {
            "count": 2,
            "name": ""
           },
           {
            "count": 1,
            "name": "K-pop superstars BTS returned to Ellen to talk about dating, and going to the \"Friends\" set to scare fans, but Ellen turned the tables and managed to shock the band with an in-studio scare."
           },
           {
            "count": 7,
            "name": "7 others"
           }
          ],
          "nan_count": 0,
          "unique_count": 9
         }
        },
        {
         "dtype": "object",
         "name": "published",
         "stats": {
          "categories": [
           {
            "count": 1,
            "name": "2022-05-22T13:00:12Z"
           },
           {
            "count": 1,
            "name": "2018-05-25T13:00:00Z"
           },
           {
            "count": 8,
            "name": "8 others"
           }
          ],
          "nan_count": 0,
          "unique_count": 10
         }
        },
        {
         "dtype": "int64",
         "name": "tag_count",
         "stats": {
          "histogram": [
           {
            "bin_end": 4,
            "bin_start": 0,
            "count": 2
           },
           {
            "bin_end": 8,
            "bin_start": 4,
            "count": 0
           },
           {
            "bin_end": 12,
            "bin_start": 8,
            "count": 0
           },
           {
            "bin_end": 16,
            "bin_start": 12,
            "count": 0
           },
           {
            "bin_end": 20,
            "bin_start": 16,
            "count": 2
           },
           {
            "bin_end": 24,
            "bin_start": 20,
            "count": 1
           },
           {
            "bin_end": 28,
            "bin_start": 24,
            "count": 1
           },
           {
            "bin_end": 32,
            "bin_start": 28,
            "count": 1
           },
           {
            "bin_end": 36,
            "bin_start": 32,
            "count": 1
           },
           {
            "bin_end": 40,
            "bin_start": 36,
            "count": 2
           }
          ],
          "max": "40",
          "min": "0",
          "nan_count": 0,
          "unique_count": 9
         }
        },
        {
         "dtype": "int64",
         "name": "view_count",
         "stats": {
          "histogram": [
           {
            "bin_end": 33679441.5,
            "bin_start": 20712429,
            "count": 1
           },
           {
            "bin_end": 46646454,
            "bin_start": 33679441.5,
            "count": 0
           },
           {
            "bin_end": 59613466.5,
            "bin_start": 46646454,
            "count": 4
           },
           {
            "bin_end": 72580479,
            "bin_start": 59613466.5,
            "count": 3
           },
           {
            "bin_end": 85547491.5,
            "bin_start": 72580479,
            "count": 0
           },
           {
            "bin_end": 98514504,
            "bin_start": 85547491.5,
            "count": 0
           },
           {
            "bin_end": 111481516.5,
            "bin_start": 98514504,
            "count": 0
           },
           {
            "bin_end": 124448529,
            "bin_start": 111481516.5,
            "count": 1
           },
           {
            "bin_end": 137415541.5,
            "bin_start": 124448529,
            "count": 0
           },
           {
            "bin_end": 150382554,
            "bin_start": 137415541.5,
            "count": 1
           }
          ],
          "max": "150382554",
          "min": "20712429",
          "nan_count": 0,
          "unique_count": 10
         }
        },
        {
         "dtype": "int64",
         "name": "like_count",
         "stats": {
          "histogram": [
           {
            "bin_end": 1022351.3,
            "bin_start": 918799,
            "count": 4
           },
           {
            "bin_end": 1125903.6,
            "bin_start": 1022351.3,
            "count": 2
           },
           {
            "bin_end": 1229455.9,
            "bin_start": 1125903.6,
            "count": 1
           },
           {
            "bin_end": 1333008.2,
            "bin_start": 1229455.9,
            "count": 0
           },
           {
            "bin_end": 1436560.5,
            "bin_start": 1333008.2,
            "count": 1
           },
           {
            "bin_end": 1540112.8,
            "bin_start": 1436560.5,
            "count": 1
           },
           {
            "bin_end": 1643665.1,
            "bin_start": 1540112.8,
            "count": 0
           },
           {
            "bin_end": 1747217.4,
            "bin_start": 1643665.1,
            "count": 0
           },
           {
            "bin_end": 1850769.7000000002,
            "bin_start": 1747217.4,
            "count": 0
           },
           {
            "bin_end": 1954322,
            "bin_start": 1850769.7000000002,
            "count": 1
           }
          ],
          "max": "1954322",
          "min": "918799",
          "nan_count": 0,
          "unique_count": 10
         }
        },
        {
         "dtype": "int64",
         "name": "dislike_count",
         "stats": {
          "histogram": [
           {
            "bin_end": -0.4,
            "bin_start": -0.5,
            "count": 0
           },
           {
            "bin_end": -0.3,
            "bin_start": -0.4,
            "count": 0
           },
           {
            "bin_end": -0.19999999999999996,
            "bin_start": -0.3,
            "count": 0
           },
           {
            "bin_end": -0.09999999999999998,
            "bin_start": -0.19999999999999996,
            "count": 0
           },
           {
            "bin_end": 0,
            "bin_start": -0.09999999999999998,
            "count": 0
           },
           {
            "bin_end": 0.10000000000000009,
            "bin_start": 0,
            "count": 10
           },
           {
            "bin_end": 0.20000000000000007,
            "bin_start": 0.10000000000000009,
            "count": 0
           },
           {
            "bin_end": 0.30000000000000004,
            "bin_start": 0.20000000000000007,
            "count": 0
           },
           {
            "bin_end": 0.4,
            "bin_start": 0.30000000000000004,
            "count": 0
           },
           {
            "bin_end": 0.5,
            "bin_start": 0.4,
            "count": 0
           }
          ],
          "max": "0",
          "min": "0",
          "nan_count": 0,
          "unique_count": 1
         }
        },
        {
         "dtype": "int64",
         "name": "comment_count",
         "stats": {
          "histogram": [
           {
            "bin_end": 9589.4,
            "bin_start": 0,
            "count": 5
           },
           {
            "bin_end": 19178.8,
            "bin_start": 9589.4,
            "count": 1
           },
           {
            "bin_end": 28768.199999999997,
            "bin_start": 19178.8,
            "count": 2
           },
           {
            "bin_end": 38357.6,
            "bin_start": 28768.199999999997,
            "count": 0
           },
           {
            "bin_end": 47947,
            "bin_start": 38357.6,
            "count": 0
           },
           {
            "bin_end": 57536.399999999994,
            "bin_start": 47947,
            "count": 0
           },
           {
            "bin_end": 67125.8,
            "bin_start": 57536.399999999994,
            "count": 1
           },
           {
            "bin_end": 76715.2,
            "bin_start": 67125.8,
            "count": 0
           },
           {
            "bin_end": 86304.59999999999,
            "bin_start": 76715.2,
            "count": 0
           },
           {
            "bin_end": 95894,
            "bin_start": 86304.59999999999,
            "count": 1
           }
          ],
          "max": "95894",
          "min": "0",
          "nan_count": 0,
          "unique_count": 7
         }
        },
        {
         "dtype": "int64",
         "name": "title_length",
         "stats": {
          "histogram": [
           {
            "bin_end": 31.6,
            "bin_start": 27,
            "count": 3
           },
           {
            "bin_end": 36.2,
            "bin_start": 31.6,
            "count": 1
           },
           {
            "bin_end": 40.8,
            "bin_start": 36.2,
            "count": 1
           },
           {
            "bin_end": 45.4,
            "bin_start": 40.8,
            "count": 2
           },
           {
            "bin_end": 50,
            "bin_start": 45.4,
            "count": 0
           },
           {
            "bin_end": 54.599999999999994,
            "bin_start": 50,
            "count": 0
           },
           {
            "bin_end": 59.199999999999996,
            "bin_start": 54.599999999999994,
            "count": 1
           },
           {
            "bin_end": 63.8,
            "bin_start": 59.199999999999996,
            "count": 1
           },
           {
            "bin_end": 68.4,
            "bin_start": 63.8,
            "count": 0
           },
           {
            "bin_end": 73,
            "bin_start": 68.4,
            "count": 1
           }
          ],
          "max": "73",
          "min": "27",
          "nan_count": 0,
          "unique_count": 10
         }
        },
        {
         "dtype": "float64",
         "name": "reactions",
         "stats": {
          "histogram": [
           {
            "bin_end": 1025.6669,
            "bin_start": 919.433,
            "count": 3
           },
           {
            "bin_end": 1131.9008,
            "bin_start": 1025.6669,
            "count": 2
           },
           {
            "bin_end": 1238.1347,
            "bin_start": 1131.9008,
            "count": 2
           },
           {
            "bin_end": 1344.3686,
            "bin_start": 1238.1347,
            "count": 1
           },
           {
            "bin_end": 1450.6025,
            "bin_start": 1344.3686,
            "count": 0
           },
           {
            "bin_end": 1556.8364,
            "bin_start": 1450.6025,
            "count": 0
           },
           {
            "bin_end": 1663.0702999999999,
            "bin_start": 1556.8364,
            "count": 1
           },
           {
            "bin_end": 1769.3042,
            "bin_start": 1663.0702999999999,
            "count": 0
           },
           {
            "bin_end": 1875.5380999999998,
            "bin_start": 1769.3042,
            "count": 0
           },
           {
            "bin_end": 1981.772,
            "bin_start": 1875.5380999999998,
            "count": 1
           }
          ],
          "max": "1981.772",
          "min": "919.433",
          "nan_count": 0,
          "unique_count": 10
         }
        },
        {
         "dtype": "int64",
         "name": "_deepnote_index_column"
        }
       ],
       "row_count": 10,
       "rows": [
        {
         "_deepnote_index_column": 1973,
         "comment_count": 13725,
         "description": "",
         "dislike_count": 0,
         "like_count": 1954322,
         "published": "2022-05-22T13:00:12Z",
         "reactions": 1981.772,
         "tag_count": 0,
         "title": "Then and now: Sophia Grace and Rosie per",
         "title_length": 73,
         "view_count": 62127104
        },
        {
         "_deepnote_index_column": 7448,
         "comment_count": 63829,
         "description": "K-pop superstars BTS returned to Ellen to talk about dating, and going to the \"Friends\" set to scare fans, but Ellen turned the tables and managed to shock the band with an in-studio scare.",
         "dislike_count": 0,
         "like_count": 1478947,
         "published": "2018-05-25T13:00:00Z",
         "reactions": 1606.605,
         "tag_count": 40,
         "title": "BTS Get Scared by a Fangirl",
         "title_length": 27,
         "view_count": 51148102
        },
        {
         "_deepnote_index_column": 9300,
         "comment_count": 0,
         "description": "To commemorate President Obama's last day in office, Ellen took a look back at some of her favorite moments with President Obama and the First Lady.",
         "dislike_count": 0,
         "like_count": 1341465,
         "published": "2017-01-19T16:01:30Z",
         "reactions": 1341.465,
         "tag_count": 18,
         "title": "Ellen's Tribute to the Obamas",
         "title_length": 29,
         "view_count": 62956599
        },
        {
         "_deepnote_index_column": 1974,
         "comment_count": 5755,
         "description": "",
         "dislike_count": 0,
         "like_count": 1207576,
         "published": "2022-05-21T13:00:20Z",
         "reactions": 1219.086,
         "tag_count": 0,
         "title": "#Diddy talks to Ellen about daughters da",
         "title_length": 59,
         "view_count": 20712429
        },
        {
         "_deepnote_index_column": 14294,
         "comment_count": 95894,
         "description": "We were all surprised when we saw Sophia Grace and Rosie's amazing performance of Super Bass on YouTube, but today the surprise was on them! These two girls had no idea they'd get the chance to meet their idol, Nicki Minaj and even perform a duet!\n\n#NickiMinaj\n#TheEllenShow\n#Ellen",
         "dislike_count": 0,
         "like_count": 971483,
         "published": "2011-10-12T19:59:00Z",
         "reactions": 1163.271,
         "tag_count": 26,
         "title": "Nicki Minaj Sings 'Super Bass' with Soph",
         "title_length": 63,
         "view_count": 150382554
        },
        {
         "_deepnote_index_column": 5680,
         "comment_count": 24062,
         "description": "\"Bury a Friend\" singer/songwriter Billie Eilish dressed in disguise to surprise her superfans backstage at The Ellen Show!\n\n#BillieEilish\n#TheEllenShow\n#Ellen",
         "dislike_count": 0,
         "like_count": 1064398,
         "published": "2019-06-26T13:00:01Z",
         "reactions": 1112.522,
         "tag_count": 23,
         "title": "Billie Eilish Surprises Her Fans",
         "title_length": 32,
         "view_count": 46735221
        },
        {
         "_deepnote_index_column": 10638,
         "comment_count": 0,
         "description": "Three-year-old Mila is Adam's biggest (little) fan, and had quite the reaction when she found out he was married!",
         "dislike_count": 0,
         "like_count": 1043636,
         "published": "2015-10-16T13:00:02Z",
         "reactions": 1043.636,
         "tag_count": 31,
         "title": "Adam Levine's New Girlfriend",
         "title_length": 28,
         "view_count": 116834662
        },
        {
         "_deepnote_index_column": 7622,
         "comment_count": 23062,
         "description": "Rapper Cardi B visited Ellen for the first time, and talked about revealing her pregnancy on \"SNL,\" then explained just how she got pregnant... by showing photos of her twerking at Coachella.",
         "dislike_count": 0,
         "like_count": 918799,
         "published": "2018-04-19T13:00:02Z",
         "reactions": 964.923,
         "tag_count": 39,
         "title": "Cardi B Showed Ellen How She Got Pregnan",
         "title_length": 41,
         "view_count": 51037266
        },
        {
         "_deepnote_index_column": 9217,
         "comment_count": 0,
         "description": "The 8-year-old singer caught up with his girlfriend and serenaded her with Ed Sheeran's hit, \"Thinking Out Loud.\" Little did he know he'd have a surprise guest!\n\nCheck out Manchester's invitation for Kai here: http://ellentube.com/videos/0-w79uqer6/\n\nFor more: https://www.mancity.com/\n@mancity\n@vincentkompany",
         "dislike_count": 0,
         "like_count": 922610,
         "published": "2017-02-14T14:00:00Z",
         "reactions": 922.61,
         "tag_count": 16,
         "title": "Kai's Surprise Star-Studded Performance",
         "title_length": 39,
         "view_count": 53185035
        },
        {
         "_deepnote_index_column": 9648,
         "comment_count": 0,
         "description": "To help prepare the First Lady for life after the White House, Ellen took her to CVS Pharmacy to pick up a few things.",
         "dislike_count": 0,
         "like_count": 919433,
         "published": "2016-09-14T13:00:01Z",
         "reactions": 919.433,
         "tag_count": 34,
         "title": "Ellen and First Lady Michelle Obama Go t",
         "title_length": 45,
         "view_count": 64353903
        }
       ]
      },
      "text/html": [
       "<div>\n",
       "<style scoped>\n",
       "    .dataframe tbody tr th:only-of-type {\n",
       "        vertical-align: middle;\n",
       "    }\n",
       "\n",
       "    .dataframe tbody tr th {\n",
       "        vertical-align: top;\n",
       "    }\n",
       "\n",
       "    .dataframe thead th {\n",
       "        text-align: right;\n",
       "    }\n",
       "</style>\n",
       "<table border=\"1\" class=\"dataframe\">\n",
       "  <thead>\n",
       "    <tr style=\"text-align: right;\">\n",
       "      <th></th>\n",
       "      <th>title</th>\n",
       "      <th>description</th>\n",
       "      <th>published</th>\n",
       "      <th>tag_count</th>\n",
       "      <th>view_count</th>\n",
       "      <th>like_count</th>\n",
       "      <th>dislike_count</th>\n",
       "      <th>comment_count</th>\n",
       "      <th>title_length</th>\n",
       "      <th>reactions</th>\n",
       "    </tr>\n",
       "  </thead>\n",
       "  <tbody>\n",
       "    <tr>\n",
       "      <th>1973</th>\n",
       "      <td>Then and now: Sophia Grace and Rosie per</td>\n",
       "      <td></td>\n",
       "      <td>2022-05-22T13:00:12Z</td>\n",
       "      <td>0</td>\n",
       "      <td>62127104</td>\n",
       "      <td>1954322</td>\n",
       "      <td>0</td>\n",
       "      <td>13725</td>\n",
       "      <td>73</td>\n",
       "      <td>1981.772</td>\n",
       "    </tr>\n",
       "    <tr>\n",
       "      <th>7448</th>\n",
       "      <td>BTS Get Scared by a Fangirl</td>\n",
       "      <td>K-pop superstars BTS returned to Ellen to talk...</td>\n",
       "      <td>2018-05-25T13:00:00Z</td>\n",
       "      <td>40</td>\n",
       "      <td>51148102</td>\n",
       "      <td>1478947</td>\n",
       "      <td>0</td>\n",
       "      <td>63829</td>\n",
       "      <td>27</td>\n",
       "      <td>1606.605</td>\n",
       "    </tr>\n",
       "    <tr>\n",
       "      <th>9300</th>\n",
       "      <td>Ellen's Tribute to the Obamas</td>\n",
       "      <td>To commemorate President Obama's last day in o...</td>\n",
       "      <td>2017-01-19T16:01:30Z</td>\n",
       "      <td>18</td>\n",
       "      <td>62956599</td>\n",
       "      <td>1341465</td>\n",
       "      <td>0</td>\n",
       "      <td>0</td>\n",
       "      <td>29</td>\n",
       "      <td>1341.465</td>\n",
       "    </tr>\n",
       "    <tr>\n",
       "      <th>1974</th>\n",
       "      <td>#Diddy talks to Ellen about daughters da</td>\n",
       "      <td></td>\n",
       "      <td>2022-05-21T13:00:20Z</td>\n",
       "      <td>0</td>\n",
       "      <td>20712429</td>\n",
       "      <td>1207576</td>\n",
       "      <td>0</td>\n",
       "      <td>5755</td>\n",
       "      <td>59</td>\n",
       "      <td>1219.086</td>\n",
       "    </tr>\n",
       "    <tr>\n",
       "      <th>14294</th>\n",
       "      <td>Nicki Minaj Sings 'Super Bass' with Soph</td>\n",
       "      <td>We were all surprised when we saw Sophia Grace...</td>\n",
       "      <td>2011-10-12T19:59:00Z</td>\n",
       "      <td>26</td>\n",
       "      <td>150382554</td>\n",
       "      <td>971483</td>\n",
       "      <td>0</td>\n",
       "      <td>95894</td>\n",
       "      <td>63</td>\n",
       "      <td>1163.271</td>\n",
       "    </tr>\n",
       "    <tr>\n",
       "      <th>5680</th>\n",
       "      <td>Billie Eilish Surprises Her Fans</td>\n",
       "      <td>\"Bury a Friend\" singer/songwriter Billie Eilis...</td>\n",
       "      <td>2019-06-26T13:00:01Z</td>\n",
       "      <td>23</td>\n",
       "      <td>46735221</td>\n",
       "      <td>1064398</td>\n",
       "      <td>0</td>\n",
       "      <td>24062</td>\n",
       "      <td>32</td>\n",
       "      <td>1112.522</td>\n",
       "    </tr>\n",
       "    <tr>\n",
       "      <th>10638</th>\n",
       "      <td>Adam Levine's New Girlfriend</td>\n",
       "      <td>Three-year-old Mila is Adam's biggest (little)...</td>\n",
       "      <td>2015-10-16T13:00:02Z</td>\n",
       "      <td>31</td>\n",
       "      <td>116834662</td>\n",
       "      <td>1043636</td>\n",
       "      <td>0</td>\n",
       "      <td>0</td>\n",
       "      <td>28</td>\n",
       "      <td>1043.636</td>\n",
       "    </tr>\n",
       "    <tr>\n",
       "      <th>7622</th>\n",
       "      <td>Cardi B Showed Ellen How She Got Pregnan</td>\n",
       "      <td>Rapper Cardi B visited Ellen for the first tim...</td>\n",
       "      <td>2018-04-19T13:00:02Z</td>\n",
       "      <td>39</td>\n",
       "      <td>51037266</td>\n",
       "      <td>918799</td>\n",
       "      <td>0</td>\n",
       "      <td>23062</td>\n",
       "      <td>41</td>\n",
       "      <td>964.923</td>\n",
       "    </tr>\n",
       "    <tr>\n",
       "      <th>9217</th>\n",
       "      <td>Kai's Surprise Star-Studded Performance</td>\n",
       "      <td>The 8-year-old singer caught up with his girlf...</td>\n",
       "      <td>2017-02-14T14:00:00Z</td>\n",
       "      <td>16</td>\n",
       "      <td>53185035</td>\n",
       "      <td>922610</td>\n",
       "      <td>0</td>\n",
       "      <td>0</td>\n",
       "      <td>39</td>\n",
       "      <td>922.610</td>\n",
       "    </tr>\n",
       "    <tr>\n",
       "      <th>9648</th>\n",
       "      <td>Ellen and First Lady Michelle Obama Go t</td>\n",
       "      <td>To help prepare the First Lady for life after ...</td>\n",
       "      <td>2016-09-14T13:00:01Z</td>\n",
       "      <td>34</td>\n",
       "      <td>64353903</td>\n",
       "      <td>919433</td>\n",
       "      <td>0</td>\n",
       "      <td>0</td>\n",
       "      <td>45</td>\n",
       "      <td>919.433</td>\n",
       "    </tr>\n",
       "  </tbody>\n",
       "</table>\n",
       "</div>"
      ],
      "text/plain": [
       "                                          title  \\\n",
       "1973   Then and now: Sophia Grace and Rosie per   \n",
       "7448                BTS Get Scared by a Fangirl   \n",
       "9300              Ellen's Tribute to the Obamas   \n",
       "1974   #Diddy talks to Ellen about daughters da   \n",
       "14294  Nicki Minaj Sings 'Super Bass' with Soph   \n",
       "5680           Billie Eilish Surprises Her Fans   \n",
       "10638              Adam Levine's New Girlfriend   \n",
       "7622   Cardi B Showed Ellen How She Got Pregnan   \n",
       "9217    Kai's Surprise Star-Studded Performance   \n",
       "9648   Ellen and First Lady Michelle Obama Go t   \n",
       "\n",
       "                                             description  \\\n",
       "1973                                                       \n",
       "7448   K-pop superstars BTS returned to Ellen to talk...   \n",
       "9300   To commemorate President Obama's last day in o...   \n",
       "1974                                                       \n",
       "14294  We were all surprised when we saw Sophia Grace...   \n",
       "5680   \"Bury a Friend\" singer/songwriter Billie Eilis...   \n",
       "10638  Three-year-old Mila is Adam's biggest (little)...   \n",
       "7622   Rapper Cardi B visited Ellen for the first tim...   \n",
       "9217   The 8-year-old singer caught up with his girlf...   \n",
       "9648   To help prepare the First Lady for life after ...   \n",
       "\n",
       "                  published  tag_count  view_count  like_count  dislike_count  \\\n",
       "1973   2022-05-22T13:00:12Z          0    62127104     1954322              0   \n",
       "7448   2018-05-25T13:00:00Z         40    51148102     1478947              0   \n",
       "9300   2017-01-19T16:01:30Z         18    62956599     1341465              0   \n",
       "1974   2022-05-21T13:00:20Z          0    20712429     1207576              0   \n",
       "14294  2011-10-12T19:59:00Z         26   150382554      971483              0   \n",
       "5680   2019-06-26T13:00:01Z         23    46735221     1064398              0   \n",
       "10638  2015-10-16T13:00:02Z         31   116834662     1043636              0   \n",
       "7622   2018-04-19T13:00:02Z         39    51037266      918799              0   \n",
       "9217   2017-02-14T14:00:00Z         16    53185035      922610              0   \n",
       "9648   2016-09-14T13:00:01Z         34    64353903      919433              0   \n",
       "\n",
       "       comment_count  title_length  reactions  \n",
       "1973           13725            73   1981.772  \n",
       "7448           63829            27   1606.605  \n",
       "9300               0            29   1341.465  \n",
       "1974            5755            59   1219.086  \n",
       "14294          95894            63   1163.271  \n",
       "5680           24062            32   1112.522  \n",
       "10638              0            28   1043.636  \n",
       "7622           23062            41    964.923  \n",
       "9217               0            39    922.610  \n",
       "9648               0            45    919.433  "
      ]
     },
     "execution_count": 17,
     "metadata": {},
     "output_type": "execute_result"
    }
   ],
   "source": [
    "# Most Interations ( Like + Dislikes + Comments)\n",
    "df_highest_reactions = df.nlargest(10, 'reactions')\n",
    "df_highest_reactions['title'] = df_highest_reactions['title'].str[:40]\n",
    "df_highest_reactions['reactions'] = df_highest_reactions['reactions'] / 1000\n",
    "df_highest_reactions"
   ]
  },
  {
   "cell_type": "code",
   "execution_count": 18,
   "metadata": {
    "cell_id": "d1a530330b2f4f238a1f65cbcb132b1b",
    "deepnote_cell_type": "code",
    "deepnote_to_be_reexecuted": false,
    "execution_millis": 54,
    "execution_start": 1702313225738,
    "source_hash": "741b8a0d"
   },
   "outputs": [
    {
     "data": {
      "application/vnd.deepnote.dataframe.v3+json": {
       "column_count": 10,
       "columns": [
        {
         "dtype": "object",
         "name": "title",
         "stats": {
          "categories": [
           {
            "count": 1,
            "name": "Then and now: Sophia Grace and Rosie per"
           },
           {
            "count": 1,
            "name": "BTS Get Scared by a Fangirl"
           },
           {
            "count": 8,
            "name": "8 others"
           }
          ],
          "nan_count": 0,
          "unique_count": 10
         }
        },
        {
         "dtype": "object",
         "name": "description",
         "stats": {
          "categories": [
           {
            "count": 2,
            "name": ""
           },
           {
            "count": 1,
            "name": "K-pop superstars BTS returned to Ellen to talk about dating, and going to the \"Friends\" set to scare fans, but Ellen turned the tables and managed to shock the band with an in-studio scare."
           },
           {
            "count": 7,
            "name": "7 others"
           }
          ],
          "nan_count": 0,
          "unique_count": 9
         }
        },
        {
         "dtype": "object",
         "name": "published",
         "stats": {
          "categories": [
           {
            "count": 1,
            "name": "2022-05-22T13:00:12Z"
           },
           {
            "count": 1,
            "name": "2018-05-25T13:00:00Z"
           },
           {
            "count": 8,
            "name": "8 others"
           }
          ],
          "nan_count": 0,
          "unique_count": 10
         }
        },
        {
         "dtype": "int64",
         "name": "tag_count",
         "stats": {
          "histogram": [
           {
            "bin_end": 4,
            "bin_start": 0,
            "count": 2
           },
           {
            "bin_end": 8,
            "bin_start": 4,
            "count": 0
           },
           {
            "bin_end": 12,
            "bin_start": 8,
            "count": 0
           },
           {
            "bin_end": 16,
            "bin_start": 12,
            "count": 0
           },
           {
            "bin_end": 20,
            "bin_start": 16,
            "count": 2
           },
           {
            "bin_end": 24,
            "bin_start": 20,
            "count": 1
           },
           {
            "bin_end": 28,
            "bin_start": 24,
            "count": 1
           },
           {
            "bin_end": 32,
            "bin_start": 28,
            "count": 1
           },
           {
            "bin_end": 36,
            "bin_start": 32,
            "count": 1
           },
           {
            "bin_end": 40,
            "bin_start": 36,
            "count": 2
           }
          ],
          "max": "40",
          "min": "0",
          "nan_count": 0,
          "unique_count": 9
         }
        },
        {
         "dtype": "int64",
         "name": "view_count",
         "stats": {
          "histogram": [
           {
            "bin_end": 33679441.5,
            "bin_start": 20712429,
            "count": 1
           },
           {
            "bin_end": 46646454,
            "bin_start": 33679441.5,
            "count": 0
           },
           {
            "bin_end": 59613466.5,
            "bin_start": 46646454,
            "count": 4
           },
           {
            "bin_end": 72580479,
            "bin_start": 59613466.5,
            "count": 3
           },
           {
            "bin_end": 85547491.5,
            "bin_start": 72580479,
            "count": 0
           },
           {
            "bin_end": 98514504,
            "bin_start": 85547491.5,
            "count": 0
           },
           {
            "bin_end": 111481516.5,
            "bin_start": 98514504,
            "count": 0
           },
           {
            "bin_end": 124448529,
            "bin_start": 111481516.5,
            "count": 1
           },
           {
            "bin_end": 137415541.5,
            "bin_start": 124448529,
            "count": 0
           },
           {
            "bin_end": 150382554,
            "bin_start": 137415541.5,
            "count": 1
           }
          ],
          "max": "150382554",
          "min": "20712429",
          "nan_count": 0,
          "unique_count": 10
         }
        },
        {
         "dtype": "int64",
         "name": "like_count",
         "stats": {
          "histogram": [
           {
            "bin_end": 1022351.3,
            "bin_start": 918799,
            "count": 4
           },
           {
            "bin_end": 1125903.6,
            "bin_start": 1022351.3,
            "count": 2
           },
           {
            "bin_end": 1229455.9,
            "bin_start": 1125903.6,
            "count": 1
           },
           {
            "bin_end": 1333008.2,
            "bin_start": 1229455.9,
            "count": 0
           },
           {
            "bin_end": 1436560.5,
            "bin_start": 1333008.2,
            "count": 1
           },
           {
            "bin_end": 1540112.8,
            "bin_start": 1436560.5,
            "count": 1
           },
           {
            "bin_end": 1643665.1,
            "bin_start": 1540112.8,
            "count": 0
           },
           {
            "bin_end": 1747217.4,
            "bin_start": 1643665.1,
            "count": 0
           },
           {
            "bin_end": 1850769.7000000002,
            "bin_start": 1747217.4,
            "count": 0
           },
           {
            "bin_end": 1954322,
            "bin_start": 1850769.7000000002,
            "count": 1
           }
          ],
          "max": "1954322",
          "min": "918799",
          "nan_count": 0,
          "unique_count": 10
         }
        },
        {
         "dtype": "int64",
         "name": "dislike_count",
         "stats": {
          "histogram": [
           {
            "bin_end": -0.4,
            "bin_start": -0.5,
            "count": 0
           },
           {
            "bin_end": -0.3,
            "bin_start": -0.4,
            "count": 0
           },
           {
            "bin_end": -0.19999999999999996,
            "bin_start": -0.3,
            "count": 0
           },
           {
            "bin_end": -0.09999999999999998,
            "bin_start": -0.19999999999999996,
            "count": 0
           },
           {
            "bin_end": 0,
            "bin_start": -0.09999999999999998,
            "count": 0
           },
           {
            "bin_end": 0.10000000000000009,
            "bin_start": 0,
            "count": 10
           },
           {
            "bin_end": 0.20000000000000007,
            "bin_start": 0.10000000000000009,
            "count": 0
           },
           {
            "bin_end": 0.30000000000000004,
            "bin_start": 0.20000000000000007,
            "count": 0
           },
           {
            "bin_end": 0.4,
            "bin_start": 0.30000000000000004,
            "count": 0
           },
           {
            "bin_end": 0.5,
            "bin_start": 0.4,
            "count": 0
           }
          ],
          "max": "0",
          "min": "0",
          "nan_count": 0,
          "unique_count": 1
         }
        },
        {
         "dtype": "int64",
         "name": "comment_count",
         "stats": {
          "histogram": [
           {
            "bin_end": 9589.4,
            "bin_start": 0,
            "count": 5
           },
           {
            "bin_end": 19178.8,
            "bin_start": 9589.4,
            "count": 1
           },
           {
            "bin_end": 28768.199999999997,
            "bin_start": 19178.8,
            "count": 2
           },
           {
            "bin_end": 38357.6,
            "bin_start": 28768.199999999997,
            "count": 0
           },
           {
            "bin_end": 47947,
            "bin_start": 38357.6,
            "count": 0
           },
           {
            "bin_end": 57536.399999999994,
            "bin_start": 47947,
            "count": 0
           },
           {
            "bin_end": 67125.8,
            "bin_start": 57536.399999999994,
            "count": 1
           },
           {
            "bin_end": 76715.2,
            "bin_start": 67125.8,
            "count": 0
           },
           {
            "bin_end": 86304.59999999999,
            "bin_start": 76715.2,
            "count": 0
           },
           {
            "bin_end": 95894,
            "bin_start": 86304.59999999999,
            "count": 1
           }
          ],
          "max": "95894",
          "min": "0",
          "nan_count": 0,
          "unique_count": 7
         }
        },
        {
         "dtype": "int64",
         "name": "title_length",
         "stats": {
          "histogram": [
           {
            "bin_end": 31.6,
            "bin_start": 27,
            "count": 3
           },
           {
            "bin_end": 36.2,
            "bin_start": 31.6,
            "count": 1
           },
           {
            "bin_end": 40.8,
            "bin_start": 36.2,
            "count": 1
           },
           {
            "bin_end": 45.4,
            "bin_start": 40.8,
            "count": 2
           },
           {
            "bin_end": 50,
            "bin_start": 45.4,
            "count": 0
           },
           {
            "bin_end": 54.599999999999994,
            "bin_start": 50,
            "count": 0
           },
           {
            "bin_end": 59.199999999999996,
            "bin_start": 54.599999999999994,
            "count": 1
           },
           {
            "bin_end": 63.8,
            "bin_start": 59.199999999999996,
            "count": 1
           },
           {
            "bin_end": 68.4,
            "bin_start": 63.8,
            "count": 0
           },
           {
            "bin_end": 73,
            "bin_start": 68.4,
            "count": 1
           }
          ],
          "max": "73",
          "min": "27",
          "nan_count": 0,
          "unique_count": 10
         }
        },
        {
         "dtype": "float64",
         "name": "reactions",
         "stats": {
          "histogram": [
           {
            "bin_end": 1025.6669,
            "bin_start": 919.433,
            "count": 3
           },
           {
            "bin_end": 1131.9008,
            "bin_start": 1025.6669,
            "count": 2
           },
           {
            "bin_end": 1238.1347,
            "bin_start": 1131.9008,
            "count": 2
           },
           {
            "bin_end": 1344.3686,
            "bin_start": 1238.1347,
            "count": 1
           },
           {
            "bin_end": 1450.6025,
            "bin_start": 1344.3686,
            "count": 0
           },
           {
            "bin_end": 1556.8364,
            "bin_start": 1450.6025,
            "count": 0
           },
           {
            "bin_end": 1663.0702999999999,
            "bin_start": 1556.8364,
            "count": 1
           },
           {
            "bin_end": 1769.3042,
            "bin_start": 1663.0702999999999,
            "count": 0
           },
           {
            "bin_end": 1875.5380999999998,
            "bin_start": 1769.3042,
            "count": 0
           },
           {
            "bin_end": 1981.772,
            "bin_start": 1875.5380999999998,
            "count": 1
           }
          ],
          "max": "1981.772",
          "min": "919.433",
          "nan_count": 0,
          "unique_count": 10
         }
        },
        {
         "dtype": "int64",
         "name": "_deepnote_index_column"
        }
       ],
       "row_count": 10,
       "rows": [
        {
         "_deepnote_index_column": 1973,
         "comment_count": 13725,
         "description": "",
         "dislike_count": 0,
         "like_count": 1954322,
         "published": "2022-05-22T13:00:12Z",
         "reactions": 1981.772,
         "tag_count": 0,
         "title": "Then and now: Sophia Grace and Rosie per",
         "title_length": 73,
         "view_count": 62127104
        },
        {
         "_deepnote_index_column": 7448,
         "comment_count": 63829,
         "description": "K-pop superstars BTS returned to Ellen to talk about dating, and going to the \"Friends\" set to scare fans, but Ellen turned the tables and managed to shock the band with an in-studio scare.",
         "dislike_count": 0,
         "like_count": 1478947,
         "published": "2018-05-25T13:00:00Z",
         "reactions": 1606.605,
         "tag_count": 40,
         "title": "BTS Get Scared by a Fangirl",
         "title_length": 27,
         "view_count": 51148102
        },
        {
         "_deepnote_index_column": 9300,
         "comment_count": 0,
         "description": "To commemorate President Obama's last day in office, Ellen took a look back at some of her favorite moments with President Obama and the First Lady.",
         "dislike_count": 0,
         "like_count": 1341465,
         "published": "2017-01-19T16:01:30Z",
         "reactions": 1341.465,
         "tag_count": 18,
         "title": "Ellen's Tribute to the Obamas",
         "title_length": 29,
         "view_count": 62956599
        },
        {
         "_deepnote_index_column": 1974,
         "comment_count": 5755,
         "description": "",
         "dislike_count": 0,
         "like_count": 1207576,
         "published": "2022-05-21T13:00:20Z",
         "reactions": 1219.086,
         "tag_count": 0,
         "title": "#Diddy talks to Ellen about daughters da",
         "title_length": 59,
         "view_count": 20712429
        },
        {
         "_deepnote_index_column": 14294,
         "comment_count": 95894,
         "description": "We were all surprised when we saw Sophia Grace and Rosie's amazing performance of Super Bass on YouTube, but today the surprise was on them! These two girls had no idea they'd get the chance to meet their idol, Nicki Minaj and even perform a duet!\n\n#NickiMinaj\n#TheEllenShow\n#Ellen",
         "dislike_count": 0,
         "like_count": 971483,
         "published": "2011-10-12T19:59:00Z",
         "reactions": 1163.271,
         "tag_count": 26,
         "title": "Nicki Minaj Sings 'Super Bass' with Soph",
         "title_length": 63,
         "view_count": 150382554
        },
        {
         "_deepnote_index_column": 5680,
         "comment_count": 24062,
         "description": "\"Bury a Friend\" singer/songwriter Billie Eilish dressed in disguise to surprise her superfans backstage at The Ellen Show!\n\n#BillieEilish\n#TheEllenShow\n#Ellen",
         "dislike_count": 0,
         "like_count": 1064398,
         "published": "2019-06-26T13:00:01Z",
         "reactions": 1112.522,
         "tag_count": 23,
         "title": "Billie Eilish Surprises Her Fans",
         "title_length": 32,
         "view_count": 46735221
        },
        {
         "_deepnote_index_column": 10638,
         "comment_count": 0,
         "description": "Three-year-old Mila is Adam's biggest (little) fan, and had quite the reaction when she found out he was married!",
         "dislike_count": 0,
         "like_count": 1043636,
         "published": "2015-10-16T13:00:02Z",
         "reactions": 1043.636,
         "tag_count": 31,
         "title": "Adam Levine's New Girlfriend",
         "title_length": 28,
         "view_count": 116834662
        },
        {
         "_deepnote_index_column": 7622,
         "comment_count": 23062,
         "description": "Rapper Cardi B visited Ellen for the first time, and talked about revealing her pregnancy on \"SNL,\" then explained just how she got pregnant... by showing photos of her twerking at Coachella.",
         "dislike_count": 0,
         "like_count": 918799,
         "published": "2018-04-19T13:00:02Z",
         "reactions": 964.923,
         "tag_count": 39,
         "title": "Cardi B Showed Ellen How She Got Pregnan",
         "title_length": 41,
         "view_count": 51037266
        },
        {
         "_deepnote_index_column": 9217,
         "comment_count": 0,
         "description": "The 8-year-old singer caught up with his girlfriend and serenaded her with Ed Sheeran's hit, \"Thinking Out Loud.\" Little did he know he'd have a surprise guest!\n\nCheck out Manchester's invitation for Kai here: http://ellentube.com/videos/0-w79uqer6/\n\nFor more: https://www.mancity.com/\n@mancity\n@vincentkompany",
         "dislike_count": 0,
         "like_count": 922610,
         "published": "2017-02-14T14:00:00Z",
         "reactions": 922.61,
         "tag_count": 16,
         "title": "Kai's Surprise Star-Studded Performance",
         "title_length": 39,
         "view_count": 53185035
        },
        {
         "_deepnote_index_column": 9648,
         "comment_count": 0,
         "description": "To help prepare the First Lady for life after the White House, Ellen took her to CVS Pharmacy to pick up a few things.",
         "dislike_count": 0,
         "like_count": 919433,
         "published": "2016-09-14T13:00:01Z",
         "reactions": 919.433,
         "tag_count": 34,
         "title": "Ellen and First Lady Michelle Obama Go t",
         "title_length": 45,
         "view_count": 64353903
        }
       ]
      },
      "text/html": [
       "<div>\n",
       "<style scoped>\n",
       "    .dataframe tbody tr th:only-of-type {\n",
       "        vertical-align: middle;\n",
       "    }\n",
       "\n",
       "    .dataframe tbody tr th {\n",
       "        vertical-align: top;\n",
       "    }\n",
       "\n",
       "    .dataframe thead th {\n",
       "        text-align: right;\n",
       "    }\n",
       "</style>\n",
       "<table border=\"1\" class=\"dataframe\">\n",
       "  <thead>\n",
       "    <tr style=\"text-align: right;\">\n",
       "      <th></th>\n",
       "      <th>title</th>\n",
       "      <th>description</th>\n",
       "      <th>published</th>\n",
       "      <th>tag_count</th>\n",
       "      <th>view_count</th>\n",
       "      <th>like_count</th>\n",
       "      <th>dislike_count</th>\n",
       "      <th>comment_count</th>\n",
       "      <th>title_length</th>\n",
       "      <th>reactions</th>\n",
       "    </tr>\n",
       "  </thead>\n",
       "  <tbody>\n",
       "    <tr>\n",
       "      <th>1973</th>\n",
       "      <td>Then and now: Sophia Grace and Rosie per</td>\n",
       "      <td></td>\n",
       "      <td>2022-05-22T13:00:12Z</td>\n",
       "      <td>0</td>\n",
       "      <td>62127104</td>\n",
       "      <td>1954322</td>\n",
       "      <td>0</td>\n",
       "      <td>13725</td>\n",
       "      <td>73</td>\n",
       "      <td>1981.772</td>\n",
       "    </tr>\n",
       "    <tr>\n",
       "      <th>7448</th>\n",
       "      <td>BTS Get Scared by a Fangirl</td>\n",
       "      <td>K-pop superstars BTS returned to Ellen to talk...</td>\n",
       "      <td>2018-05-25T13:00:00Z</td>\n",
       "      <td>40</td>\n",
       "      <td>51148102</td>\n",
       "      <td>1478947</td>\n",
       "      <td>0</td>\n",
       "      <td>63829</td>\n",
       "      <td>27</td>\n",
       "      <td>1606.605</td>\n",
       "    </tr>\n",
       "    <tr>\n",
       "      <th>9300</th>\n",
       "      <td>Ellen's Tribute to the Obamas</td>\n",
       "      <td>To commemorate President Obama's last day in o...</td>\n",
       "      <td>2017-01-19T16:01:30Z</td>\n",
       "      <td>18</td>\n",
       "      <td>62956599</td>\n",
       "      <td>1341465</td>\n",
       "      <td>0</td>\n",
       "      <td>0</td>\n",
       "      <td>29</td>\n",
       "      <td>1341.465</td>\n",
       "    </tr>\n",
       "    <tr>\n",
       "      <th>1974</th>\n",
       "      <td>#Diddy talks to Ellen about daughters da</td>\n",
       "      <td></td>\n",
       "      <td>2022-05-21T13:00:20Z</td>\n",
       "      <td>0</td>\n",
       "      <td>20712429</td>\n",
       "      <td>1207576</td>\n",
       "      <td>0</td>\n",
       "      <td>5755</td>\n",
       "      <td>59</td>\n",
       "      <td>1219.086</td>\n",
       "    </tr>\n",
       "    <tr>\n",
       "      <th>14294</th>\n",
       "      <td>Nicki Minaj Sings 'Super Bass' with Soph</td>\n",
       "      <td>We were all surprised when we saw Sophia Grace...</td>\n",
       "      <td>2011-10-12T19:59:00Z</td>\n",
       "      <td>26</td>\n",
       "      <td>150382554</td>\n",
       "      <td>971483</td>\n",
       "      <td>0</td>\n",
       "      <td>95894</td>\n",
       "      <td>63</td>\n",
       "      <td>1163.271</td>\n",
       "    </tr>\n",
       "    <tr>\n",
       "      <th>5680</th>\n",
       "      <td>Billie Eilish Surprises Her Fans</td>\n",
       "      <td>\"Bury a Friend\" singer/songwriter Billie Eilis...</td>\n",
       "      <td>2019-06-26T13:00:01Z</td>\n",
       "      <td>23</td>\n",
       "      <td>46735221</td>\n",
       "      <td>1064398</td>\n",
       "      <td>0</td>\n",
       "      <td>24062</td>\n",
       "      <td>32</td>\n",
       "      <td>1112.522</td>\n",
       "    </tr>\n",
       "    <tr>\n",
       "      <th>10638</th>\n",
       "      <td>Adam Levine's New Girlfriend</td>\n",
       "      <td>Three-year-old Mila is Adam's biggest (little)...</td>\n",
       "      <td>2015-10-16T13:00:02Z</td>\n",
       "      <td>31</td>\n",
       "      <td>116834662</td>\n",
       "      <td>1043636</td>\n",
       "      <td>0</td>\n",
       "      <td>0</td>\n",
       "      <td>28</td>\n",
       "      <td>1043.636</td>\n",
       "    </tr>\n",
       "    <tr>\n",
       "      <th>7622</th>\n",
       "      <td>Cardi B Showed Ellen How She Got Pregnan</td>\n",
       "      <td>Rapper Cardi B visited Ellen for the first tim...</td>\n",
       "      <td>2018-04-19T13:00:02Z</td>\n",
       "      <td>39</td>\n",
       "      <td>51037266</td>\n",
       "      <td>918799</td>\n",
       "      <td>0</td>\n",
       "      <td>23062</td>\n",
       "      <td>41</td>\n",
       "      <td>964.923</td>\n",
       "    </tr>\n",
       "    <tr>\n",
       "      <th>9217</th>\n",
       "      <td>Kai's Surprise Star-Studded Performance</td>\n",
       "      <td>The 8-year-old singer caught up with his girlf...</td>\n",
       "      <td>2017-02-14T14:00:00Z</td>\n",
       "      <td>16</td>\n",
       "      <td>53185035</td>\n",
       "      <td>922610</td>\n",
       "      <td>0</td>\n",
       "      <td>0</td>\n",
       "      <td>39</td>\n",
       "      <td>922.610</td>\n",
       "    </tr>\n",
       "    <tr>\n",
       "      <th>9648</th>\n",
       "      <td>Ellen and First Lady Michelle Obama Go t</td>\n",
       "      <td>To help prepare the First Lady for life after ...</td>\n",
       "      <td>2016-09-14T13:00:01Z</td>\n",
       "      <td>34</td>\n",
       "      <td>64353903</td>\n",
       "      <td>919433</td>\n",
       "      <td>0</td>\n",
       "      <td>0</td>\n",
       "      <td>45</td>\n",
       "      <td>919.433</td>\n",
       "    </tr>\n",
       "  </tbody>\n",
       "</table>\n",
       "</div>"
      ],
      "text/plain": [
       "                                          title  \\\n",
       "1973   Then and now: Sophia Grace and Rosie per   \n",
       "7448                BTS Get Scared by a Fangirl   \n",
       "9300              Ellen's Tribute to the Obamas   \n",
       "1974   #Diddy talks to Ellen about daughters da   \n",
       "14294  Nicki Minaj Sings 'Super Bass' with Soph   \n",
       "5680           Billie Eilish Surprises Her Fans   \n",
       "10638              Adam Levine's New Girlfriend   \n",
       "7622   Cardi B Showed Ellen How She Got Pregnan   \n",
       "9217    Kai's Surprise Star-Studded Performance   \n",
       "9648   Ellen and First Lady Michelle Obama Go t   \n",
       "\n",
       "                                             description  \\\n",
       "1973                                                       \n",
       "7448   K-pop superstars BTS returned to Ellen to talk...   \n",
       "9300   To commemorate President Obama's last day in o...   \n",
       "1974                                                       \n",
       "14294  We were all surprised when we saw Sophia Grace...   \n",
       "5680   \"Bury a Friend\" singer/songwriter Billie Eilis...   \n",
       "10638  Three-year-old Mila is Adam's biggest (little)...   \n",
       "7622   Rapper Cardi B visited Ellen for the first tim...   \n",
       "9217   The 8-year-old singer caught up with his girlf...   \n",
       "9648   To help prepare the First Lady for life after ...   \n",
       "\n",
       "                  published  tag_count  view_count  like_count  dislike_count  \\\n",
       "1973   2022-05-22T13:00:12Z          0    62127104     1954322              0   \n",
       "7448   2018-05-25T13:00:00Z         40    51148102     1478947              0   \n",
       "9300   2017-01-19T16:01:30Z         18    62956599     1341465              0   \n",
       "1974   2022-05-21T13:00:20Z          0    20712429     1207576              0   \n",
       "14294  2011-10-12T19:59:00Z         26   150382554      971483              0   \n",
       "5680   2019-06-26T13:00:01Z         23    46735221     1064398              0   \n",
       "10638  2015-10-16T13:00:02Z         31   116834662     1043636              0   \n",
       "7622   2018-04-19T13:00:02Z         39    51037266      918799              0   \n",
       "9217   2017-02-14T14:00:00Z         16    53185035      922610              0   \n",
       "9648   2016-09-14T13:00:01Z         34    64353903      919433              0   \n",
       "\n",
       "       comment_count  title_length  reactions  \n",
       "1973           13725            73   1981.772  \n",
       "7448           63829            27   1606.605  \n",
       "9300               0            29   1341.465  \n",
       "1974            5755            59   1219.086  \n",
       "14294          95894            63   1163.271  \n",
       "5680           24062            32   1112.522  \n",
       "10638              0            28   1043.636  \n",
       "7622           23062            41    964.923  \n",
       "9217               0            39    922.610  \n",
       "9648               0            45    919.433  "
      ]
     },
     "execution_count": 18,
     "metadata": {},
     "output_type": "execute_result"
    }
   ],
   "source": [
    "# Most Interations ( Like + Dislikes + Comments)\n",
    "df_highest_reactions = df.nlargest(10, 'reactions')\n",
    "df_highest_reactions['title'] = df_highest_reactions['title'].str[:40]\n",
    "df_highest_reactions['reactions'] = df_highest_reactions['reactions'] / 1000\n",
    "df_highest_reactions"
   ]
  },
  {
   "cell_type": "code",
   "execution_count": 20,
   "metadata": {
    "cell_id": "4fe0565051394635a85ff4b427b767e3",
    "deepnote_cell_type": "code",
    "deepnote_to_be_reexecuted": false,
    "execution_millis": 49,
    "execution_start": 1702313226841,
    "source_hash": "54638c10"
   },
   "outputs": [
    {
     "data": {
      "application/vnd.deepnote.dataframe.v3+json": {
       "column_count": 10,
       "columns": [
        {
         "dtype": "object",
         "name": "title",
         "stats": {
          "categories": [
           {
            "count": 1,
            "name": "Greg Kinnear Talks  “Stuck on You” in 20"
           },
           {
            "count": 1,
            "name": "Ellen Needs Help Christmas Shopping"
           },
           {
            "count": 8,
            "name": "8 others"
           }
          ],
          "nan_count": 0,
          "unique_count": 10
         }
        },
        {
         "dtype": "object",
         "name": "description",
         "stats": {
          "categories": [
           {
            "count": 2,
            "name": ""
           },
           {
            "count": 1,
            "name": "[Aired: December 17, 2003]\n\nGreg Kinnear talks about being locked to Matt Damon during the filming of “Stuck on You” and Ellen takes him fly fishing on set!\n\nSUBSCRIBE: https://ellen.tv/3D6Sewq \n\nFOLLOW ELLEN:\nInstagram - https://www.instagram.com/ellendegeneres/\nFacebook - https://www.facebook.com/ellentv/ \nTwitter - https://twitter.com/ellendegeneres\nTikTok - https://www.tiktok.com/@ellendegeneres  \nWebsite - https://www.ellentube.com/\n\nThe place for laughs, joy, stars, surprises, and everything Ellen.\n\n#ellen #theellenshow #ellendegeneres"
           },
           {
            "count": 7,
            "name": "7 others"
           }
          ],
          "nan_count": 0,
          "unique_count": 9
         }
        },
        {
         "dtype": "object",
         "name": "published",
         "stats": {
          "categories": [
           {
            "count": 1,
            "name": "2023-12-11T16:00:37Z"
           },
           {
            "count": 1,
            "name": "2023-12-11T15:00:43Z"
           },
           {
            "count": 8,
            "name": "8 others"
           }
          ],
          "nan_count": 0,
          "unique_count": 10
         }
        },
        {
         "dtype": "int64",
         "name": "tag_count",
         "stats": {
          "histogram": [
           {
            "bin_end": 20.6,
            "bin_start": 20.5,
            "count": 0
           },
           {
            "bin_end": 20.7,
            "bin_start": 20.6,
            "count": 0
           },
           {
            "bin_end": 20.8,
            "bin_start": 20.7,
            "count": 0
           },
           {
            "bin_end": 20.9,
            "bin_start": 20.8,
            "count": 0
           },
           {
            "bin_end": 21,
            "bin_start": 20.9,
            "count": 0
           },
           {
            "bin_end": 21.1,
            "bin_start": 21,
            "count": 10
           },
           {
            "bin_end": 21.2,
            "bin_start": 21.1,
            "count": 0
           },
           {
            "bin_end": 21.3,
            "bin_start": 21.2,
            "count": 0
           },
           {
            "bin_end": 21.4,
            "bin_start": 21.3,
            "count": 0
           },
           {
            "bin_end": 21.5,
            "bin_start": 21.4,
            "count": 0
           }
          ],
          "max": "21",
          "min": "21",
          "nan_count": 0,
          "unique_count": 1
         }
        },
        {
         "dtype": "int64",
         "name": "view_count",
         "stats": {
          "histogram": [
           {
            "bin_end": 4421.6,
            "bin_start": 642,
            "count": 5
           },
           {
            "bin_end": 8201.2,
            "bin_start": 4421.6,
            "count": 1
           },
           {
            "bin_end": 11980.8,
            "bin_start": 8201.2,
            "count": 1
           },
           {
            "bin_end": 15760.4,
            "bin_start": 11980.8,
            "count": 1
           },
           {
            "bin_end": 19540,
            "bin_start": 15760.4,
            "count": 1
           },
           {
            "bin_end": 23319.6,
            "bin_start": 19540,
            "count": 0
           },
           {
            "bin_end": 27099.2,
            "bin_start": 23319.6,
            "count": 0
           },
           {
            "bin_end": 30878.8,
            "bin_start": 27099.2,
            "count": 0
           },
           {
            "bin_end": 34658.4,
            "bin_start": 30878.8,
            "count": 0
           },
           {
            "bin_end": 38438,
            "bin_start": 34658.4,
            "count": 1
           }
          ],
          "max": "38438",
          "min": "642",
          "nan_count": 0,
          "unique_count": 10
         }
        },
        {
         "dtype": "int64",
         "name": "like_count",
         "stats": {
          "histogram": [
           {
            "bin_end": 284.2,
            "bin_start": 45,
            "count": 8
           },
           {
            "bin_end": 523.4,
            "bin_start": 284.2,
            "count": 0
           },
           {
            "bin_end": 762.5999999999999,
            "bin_start": 523.4,
            "count": 0
           },
           {
            "bin_end": 1001.8,
            "bin_start": 762.5999999999999,
            "count": 1
           },
           {
            "bin_end": 1241,
            "bin_start": 1001.8,
            "count": 0
           },
           {
            "bin_end": 1480.1999999999998,
            "bin_start": 1241,
            "count": 0
           },
           {
            "bin_end": 1719.3999999999999,
            "bin_start": 1480.1999999999998,
            "count": 0
           },
           {
            "bin_end": 1958.6,
            "bin_start": 1719.3999999999999,
            "count": 0
           },
           {
            "bin_end": 2197.7999999999997,
            "bin_start": 1958.6,
            "count": 0
           },
           {
            "bin_end": 2437,
            "bin_start": 2197.7999999999997,
            "count": 1
           }
          ],
          "max": "2437",
          "min": "45",
          "nan_count": 0,
          "unique_count": 10
         }
        },
        {
         "dtype": "float64",
         "name": "dislike_count",
         "stats": {
          "histogram": [
           {
            "bin_end": -0.4,
            "bin_start": -0.5,
            "count": 0
           },
           {
            "bin_end": -0.3,
            "bin_start": -0.4,
            "count": 0
           },
           {
            "bin_end": -0.19999999999999996,
            "bin_start": -0.3,
            "count": 0
           },
           {
            "bin_end": -0.09999999999999998,
            "bin_start": -0.19999999999999996,
            "count": 0
           },
           {
            "bin_end": 0,
            "bin_start": -0.09999999999999998,
            "count": 0
           },
           {
            "bin_end": 0.10000000000000009,
            "bin_start": 0,
            "count": 10
           },
           {
            "bin_end": 0.20000000000000007,
            "bin_start": 0.10000000000000009,
            "count": 0
           },
           {
            "bin_end": 0.30000000000000004,
            "bin_start": 0.20000000000000007,
            "count": 0
           },
           {
            "bin_end": 0.4,
            "bin_start": 0.30000000000000004,
            "count": 0
           },
           {
            "bin_end": 0.5,
            "bin_start": 0.4,
            "count": 0
           }
          ],
          "max": "0.0",
          "min": "0.0",
          "nan_count": 0,
          "unique_count": 1
         }
        },
        {
         "dtype": "int64",
         "name": "comment_count",
         "stats": {
          "histogram": [
           {
            "bin_end": 12.5,
            "bin_start": 3,
            "count": 7
           },
           {
            "bin_end": 22,
            "bin_start": 12.5,
            "count": 1
           },
           {
            "bin_end": 31.5,
            "bin_start": 22,
            "count": 1
           },
           {
            "bin_end": 41,
            "bin_start": 31.5,
            "count": 0
           },
           {
            "bin_end": 50.5,
            "bin_start": 41,
            "count": 0
           },
           {
            "bin_end": 60,
            "bin_start": 50.5,
            "count": 0
           },
           {
            "bin_end": 69.5,
            "bin_start": 60,
            "count": 0
           },
           {
            "bin_end": 79,
            "bin_start": 69.5,
            "count": 0
           },
           {
            "bin_end": 88.5,
            "bin_start": 79,
            "count": 0
           },
           {
            "bin_end": 98,
            "bin_start": 88.5,
            "count": 1
           }
          ],
          "max": "98",
          "min": "3",
          "nan_count": 0,
          "unique_count": 8
         }
        },
        {
         "dtype": "int64",
         "name": "title_length",
         "stats": {
          "histogram": [
           {
            "bin_end": 39.6,
            "bin_start": 35,
            "count": 3
           },
           {
            "bin_end": 44.2,
            "bin_start": 39.6,
            "count": 2
           },
           {
            "bin_end": 48.8,
            "bin_start": 44.2,
            "count": 2
           },
           {
            "bin_end": 53.4,
            "bin_start": 48.8,
            "count": 0
           },
           {
            "bin_end": 58,
            "bin_start": 53.4,
            "count": 1
           },
           {
            "bin_end": 62.599999999999994,
            "bin_start": 58,
            "count": 0
           },
           {
            "bin_end": 67.19999999999999,
            "bin_start": 62.599999999999994,
            "count": 1
           },
           {
            "bin_end": 71.8,
            "bin_start": 67.19999999999999,
            "count": 0
           },
           {
            "bin_end": 76.4,
            "bin_start": 71.8,
            "count": 0
           },
           {
            "bin_end": 81,
            "bin_start": 76.4,
            "count": 1
           }
          ],
          "max": "81",
          "min": "35",
          "nan_count": 0,
          "unique_count": 8
         }
        },
        {
         "dtype": "int64",
         "name": "reactions",
         "stats": {
          "histogram": [
           {
            "bin_end": 316.4,
            "bin_start": 59,
            "count": 8
           },
           {
            "bin_end": 573.8,
            "bin_start": 316.4,
            "count": 0
           },
           {
            "bin_end": 831.1999999999999,
            "bin_start": 573.8,
            "count": 0
           },
           {
            "bin_end": 1088.6,
            "bin_start": 831.1999999999999,
            "count": 1
           },
           {
            "bin_end": 1346,
            "bin_start": 1088.6,
            "count": 0
           },
           {
            "bin_end": 1603.3999999999999,
            "bin_start": 1346,
            "count": 0
           },
           {
            "bin_end": 1860.7999999999997,
            "bin_start": 1603.3999999999999,
            "count": 0
           },
           {
            "bin_end": 2118.2,
            "bin_start": 1860.7999999999997,
            "count": 0
           },
           {
            "bin_end": 2375.6,
            "bin_start": 2118.2,
            "count": 0
           },
           {
            "bin_end": 2633,
            "bin_start": 2375.6,
            "count": 1
           }
          ],
          "max": "2633",
          "min": "59",
          "nan_count": 0,
          "unique_count": 10
         }
        },
        {
         "dtype": "int64",
         "name": "_deepnote_index_column"
        }
       ],
       "row_count": 10,
       "rows": [
        {
         "_deepnote_index_column": 0,
         "comment_count": 7,
         "description": "[Aired: December 17, 2003]\n\nGreg Kinnear talks about being locked to Matt Damon during the filming of “Stuck on You” and Ellen takes him fly fishing on set!\n\nSUBSCRIBE: https://ellen.tv/3D6Sewq \n\nFOLLOW ELLEN:\nInstagram - https://www.instagram.com/ellendegeneres/\nFacebook - https://www.facebook.com/ellentv/ \nTwitter - https://twitter.com/ellendegeneres\nTikTok - https://www.tiktok.com/@ellendegeneres  \nWebsite - https://www.ellentube.com/\n\nThe place for laughs, joy, stars, surprises, and everything Ellen.\n\n#ellen #theellenshow #ellendegeneres",
         "dislike_count": 0,
         "like_count": 45,
         "published": "2023-12-11T16:00:37Z",
         "reactions": 59,
         "tag_count": 21,
         "title": "Greg Kinnear Talks  “Stuck on You” in 20",
         "title_length": 42,
         "view_count": 642
        },
        {
         "_deepnote_index_column": 1,
         "comment_count": 13,
         "description": "[Aired: December 17, 2003]\n\nEllen wants her own cheerleaders to hype her up to go to the mall so she can get her daunting Christmas shopping done. Plus Ellen introduces Day 10 of the 12 days of Giveaways!\n\nSUBSCRIBE: https://ellen.tv/3D6Sewq \n\nFOLLOW ELLEN:\nInstagram - https://www.instagram.com/ellendegeneres/\nFacebook - https://www.facebook.com/ellentv/ \nTwitter - https://twitter.com/ellendegeneres\nTikTok - https://www.tiktok.com/@ellendegeneres  \nWebsite - https://www.ellentube.com/\n\nThe place for laughs, joy, stars, surprises, and everything Ellen.\n\n#ellen #theellenshow #ellendegeneres",
         "dislike_count": 0,
         "like_count": 83,
         "published": "2023-12-11T15:00:43Z",
         "reactions": 109,
         "tag_count": 21,
         "title": "Ellen Needs Help Christmas Shopping",
         "title_length": 35,
         "view_count": 950
        },
        {
         "_deepnote_index_column": 2,
         "comment_count": 7,
         "description": "",
         "dislike_count": 0,
         "like_count": 195,
         "published": "2023-12-11T14:00:14Z",
         "reactions": 209,
         "tag_count": 21,
         "title": "John Stamos Tries the Updog Joke 🐶 #shor",
         "title_length": 42,
         "view_count": 1952
        },
        {
         "_deepnote_index_column": 3,
         "comment_count": 26,
         "description": "Ellen DeGeneres and Whitney Wolfe Herd team up to help Bree find the right match!\n\nSUBSCRIBE: https://ellen.tv/3D6Sewq \n\nFOLLOW ELLEN:\nInstagram - https://www.instagram.com/ellendegeneres/\nFacebook - https://www.facebook.com/ellentv/ \nTwitter - https://twitter.com/ellendegeneres\nTikTok - https://www.tiktok.com/@ellendegeneres  \nWebsite - https://www.ellentube.com/\n\nThe place for laughs, joy, stars, surprises, and everything Ellen.\n\n#ellen #theellenshow #ellendegeneres",
         "dislike_count": 0,
         "like_count": 130,
         "published": "2023-12-09T13:55:00Z",
         "reactions": 182,
         "tag_count": 21,
         "title": "Ellen Guides Single-Mom Bree on Her Ques",
         "title_length": 64,
         "view_count": 12923
        },
        {
         "_deepnote_index_column": 4,
         "comment_count": 98,
         "description": "Nicki Minaj created unforgettable memories on the \"Ellen\" show, each as vibrant as her ever-changing and iconic hair.\n\nSUBSCRIBE: https://ellen.tv/3D6Sewq \n\nFOLLOW ELLEN:\nInstagram - https://www.instagram.com/ellendegeneres/\nFacebook - https://www.facebook.com/ellentv/ \nTwitter - https://twitter.com/ellendegeneres\nTikTok - https://www.tiktok.com/@ellendegeneres  \nWebsite - https://www.ellentube.com/\n\nThe place for laughs, joy, stars, surprises, and everything Ellen.\n\n#ellen #theellenshow #ellendegeneres",
         "dislike_count": 0,
         "like_count": 2437,
         "published": "2023-12-08T21:00:09Z",
         "reactions": 2633,
         "tag_count": 21,
         "title": "Best of Nicki Minaj on the 'Ellen' Show",
         "title_length": 39,
         "view_count": 38438
        },
        {
         "_deepnote_index_column": 5,
         "comment_count": 9,
         "description": "[Aired: December 16, 2003]\n\nHe's the 90s heart throb and one of best-selling Latin music artists, Enrique Iglesias sits down with Ellen in 2003 discussing his latest album, family and more!\n\nSUBSCRIBE: https://ellen.tv/3D6Sewq \n\nFOLLOW ELLEN:\nInstagram - https://www.instagram.com/ellendegeneres/\nFacebook - https://www.facebook.com/ellentv/ \nTwitter - https://twitter.com/ellendegeneres\nTikTok - https://www.tiktok.com/@ellendegeneres  \nWebsite - https://www.ellentube.com/\n\nThe place for laughs, joy, stars, surprises, and everything Ellen.\n\n#ellen #theellenshow #ellendegeneres",
         "dislike_count": 0,
         "like_count": 132,
         "published": "2023-12-08T20:00:23Z",
         "reactions": 150,
         "tag_count": 21,
         "title": "Enrique Iglesias' First Appearance on 'E",
         "title_length": 45,
         "view_count": 7650
        },
        {
         "_deepnote_index_column": 6,
         "comment_count": 3,
         "description": "[Aired: December 16, 2003]\n\nEnjoy a fun game with the audience that is both funny and puzzling.\n\nSUBSCRIBE: https://ellen.tv/3D6Sewq \n\nFOLLOW ELLEN:\nInstagram - https://www.instagram.com/ellendegeneres/\nFacebook - https://www.facebook.com/ellentv/ \nTwitter - https://twitter.com/ellendegeneres\nTikTok - https://www.tiktok.com/@ellendegeneres  \nWebsite - https://www.ellentube.com/\n\nThe place for laughs, joy, stars, surprises, and everything Ellen.\n\n#ellen #theellenshow #ellendegeneres",
         "dislike_count": 0,
         "like_count": 57,
         "published": "2023-12-08T19:00:19Z",
         "reactions": 63,
         "tag_count": 21,
         "title": "Ellen Plays 'Reindeer, Dwarf, or Prescri",
         "title_length": 81,
         "view_count": 2417
        },
        {
         "_deepnote_index_column": 7,
         "comment_count": 7,
         "description": "[Aired: December 16, 2003]\n\nThe iconic Shirley MacLaine's first appearance so incredible, and she brought along her furry friend.\n\nSUBSCRIBE: https://ellen.tv/3D6Sewq \n\nFOLLOW ELLEN:\nInstagram - https://www.instagram.com/ellendegeneres/\nFacebook - https://www.facebook.com/ellentv/ \nTwitter - https://twitter.com/ellendegeneres\nTikTok - https://www.tiktok.com/@ellendegeneres  \nWebsite - https://www.ellentube.com/\n\nThe place for laughs, joy, stars, surprises, and everything Ellen.\n\n#ellen #theellenshow #ellendegeneres",
         "dislike_count": 0,
         "like_count": 156,
         "published": "2023-12-08T18:00:14Z",
         "reactions": 170,
         "tag_count": 21,
         "title": "Shirley MacLaine's First Appearance on '",
         "title_length": 46,
         "view_count": 9772
        },
        {
         "_deepnote_index_column": 8,
         "comment_count": 5,
         "description": "[Aired: December 16, 2003]\n\nWe continue the festive and fun giveaways!\n\nSUBSCRIBE: https://ellen.tv/3D6Sewq \n\nFOLLOW ELLEN:\nInstagram - https://www.instagram.com/ellendegeneres/\nFacebook - https://www.facebook.com/ellentv/ \nTwitter - https://twitter.com/ellendegeneres\nTikTok - https://www.tiktok.com/@ellendegeneres  \nWebsite - https://www.ellentube.com/\n\nThe place for laughs, joy, stars, surprises, and everything Ellen.\n\n#ellen #theellenshow #ellendegeneres",
         "dislike_count": 0,
         "like_count": 125,
         "published": "2023-12-08T17:00:53Z",
         "reactions": 135,
         "tag_count": 21,
         "title": "Season 1: Day 9 of 12 Days of Giveaways",
         "title_length": 39,
         "view_count": 3990
        },
        {
         "_deepnote_index_column": 9,
         "comment_count": 12,
         "description": "",
         "dislike_count": 0,
         "like_count": 840,
         "published": "2023-12-08T16:00:27Z",
         "reactions": 864,
         "tag_count": 21,
         "title": "This Christmas Gift Changed John Cena Fo",
         "title_length": 57,
         "view_count": 19328
        }
       ]
      },
      "text/html": [
       "<div>\n",
       "<style scoped>\n",
       "    .dataframe tbody tr th:only-of-type {\n",
       "        vertical-align: middle;\n",
       "    }\n",
       "\n",
       "    .dataframe tbody tr th {\n",
       "        vertical-align: top;\n",
       "    }\n",
       "\n",
       "    .dataframe thead th {\n",
       "        text-align: right;\n",
       "    }\n",
       "</style>\n",
       "<table border=\"1\" class=\"dataframe\">\n",
       "  <thead>\n",
       "    <tr style=\"text-align: right;\">\n",
       "      <th></th>\n",
       "      <th>title</th>\n",
       "      <th>description</th>\n",
       "      <th>published</th>\n",
       "      <th>tag_count</th>\n",
       "      <th>view_count</th>\n",
       "      <th>like_count</th>\n",
       "      <th>dislike_count</th>\n",
       "      <th>comment_count</th>\n",
       "      <th>title_length</th>\n",
       "      <th>reactions</th>\n",
       "    </tr>\n",
       "  </thead>\n",
       "  <tbody>\n",
       "    <tr>\n",
       "      <th>0</th>\n",
       "      <td>Greg Kinnear Talks  “Stuck on You” in 20</td>\n",
       "      <td>[Aired: December 17, 2003]\\n\\nGreg Kinnear tal...</td>\n",
       "      <td>2023-12-11T16:00:37Z</td>\n",
       "      <td>21</td>\n",
       "      <td>642</td>\n",
       "      <td>45</td>\n",
       "      <td>0.0</td>\n",
       "      <td>7</td>\n",
       "      <td>42</td>\n",
       "      <td>59</td>\n",
       "    </tr>\n",
       "    <tr>\n",
       "      <th>1</th>\n",
       "      <td>Ellen Needs Help Christmas Shopping</td>\n",
       "      <td>[Aired: December 17, 2003]\\n\\nEllen wants her ...</td>\n",
       "      <td>2023-12-11T15:00:43Z</td>\n",
       "      <td>21</td>\n",
       "      <td>950</td>\n",
       "      <td>83</td>\n",
       "      <td>0.0</td>\n",
       "      <td>13</td>\n",
       "      <td>35</td>\n",
       "      <td>109</td>\n",
       "    </tr>\n",
       "    <tr>\n",
       "      <th>2</th>\n",
       "      <td>John Stamos Tries the Updog Joke 🐶 #shor</td>\n",
       "      <td></td>\n",
       "      <td>2023-12-11T14:00:14Z</td>\n",
       "      <td>21</td>\n",
       "      <td>1952</td>\n",
       "      <td>195</td>\n",
       "      <td>0.0</td>\n",
       "      <td>7</td>\n",
       "      <td>42</td>\n",
       "      <td>209</td>\n",
       "    </tr>\n",
       "    <tr>\n",
       "      <th>3</th>\n",
       "      <td>Ellen Guides Single-Mom Bree on Her Ques</td>\n",
       "      <td>Ellen DeGeneres and Whitney Wolfe Herd team up...</td>\n",
       "      <td>2023-12-09T13:55:00Z</td>\n",
       "      <td>21</td>\n",
       "      <td>12923</td>\n",
       "      <td>130</td>\n",
       "      <td>0.0</td>\n",
       "      <td>26</td>\n",
       "      <td>64</td>\n",
       "      <td>182</td>\n",
       "    </tr>\n",
       "    <tr>\n",
       "      <th>4</th>\n",
       "      <td>Best of Nicki Minaj on the 'Ellen' Show</td>\n",
       "      <td>Nicki Minaj created unforgettable memories on ...</td>\n",
       "      <td>2023-12-08T21:00:09Z</td>\n",
       "      <td>21</td>\n",
       "      <td>38438</td>\n",
       "      <td>2437</td>\n",
       "      <td>0.0</td>\n",
       "      <td>98</td>\n",
       "      <td>39</td>\n",
       "      <td>2633</td>\n",
       "    </tr>\n",
       "    <tr>\n",
       "      <th>5</th>\n",
       "      <td>Enrique Iglesias' First Appearance on 'E</td>\n",
       "      <td>[Aired: December 16, 2003]\\n\\nHe's the 90s hea...</td>\n",
       "      <td>2023-12-08T20:00:23Z</td>\n",
       "      <td>21</td>\n",
       "      <td>7650</td>\n",
       "      <td>132</td>\n",
       "      <td>0.0</td>\n",
       "      <td>9</td>\n",
       "      <td>45</td>\n",
       "      <td>150</td>\n",
       "    </tr>\n",
       "    <tr>\n",
       "      <th>6</th>\n",
       "      <td>Ellen Plays 'Reindeer, Dwarf, or Prescri</td>\n",
       "      <td>[Aired: December 16, 2003]\\n\\nEnjoy a fun game...</td>\n",
       "      <td>2023-12-08T19:00:19Z</td>\n",
       "      <td>21</td>\n",
       "      <td>2417</td>\n",
       "      <td>57</td>\n",
       "      <td>0.0</td>\n",
       "      <td>3</td>\n",
       "      <td>81</td>\n",
       "      <td>63</td>\n",
       "    </tr>\n",
       "    <tr>\n",
       "      <th>7</th>\n",
       "      <td>Shirley MacLaine's First Appearance on '</td>\n",
       "      <td>[Aired: December 16, 2003]\\n\\nThe iconic Shirl...</td>\n",
       "      <td>2023-12-08T18:00:14Z</td>\n",
       "      <td>21</td>\n",
       "      <td>9772</td>\n",
       "      <td>156</td>\n",
       "      <td>0.0</td>\n",
       "      <td>7</td>\n",
       "      <td>46</td>\n",
       "      <td>170</td>\n",
       "    </tr>\n",
       "    <tr>\n",
       "      <th>8</th>\n",
       "      <td>Season 1: Day 9 of 12 Days of Giveaways</td>\n",
       "      <td>[Aired: December 16, 2003]\\n\\nWe continue the ...</td>\n",
       "      <td>2023-12-08T17:00:53Z</td>\n",
       "      <td>21</td>\n",
       "      <td>3990</td>\n",
       "      <td>125</td>\n",
       "      <td>0.0</td>\n",
       "      <td>5</td>\n",
       "      <td>39</td>\n",
       "      <td>135</td>\n",
       "    </tr>\n",
       "    <tr>\n",
       "      <th>9</th>\n",
       "      <td>This Christmas Gift Changed John Cena Fo</td>\n",
       "      <td></td>\n",
       "      <td>2023-12-08T16:00:27Z</td>\n",
       "      <td>21</td>\n",
       "      <td>19328</td>\n",
       "      <td>840</td>\n",
       "      <td>0.0</td>\n",
       "      <td>12</td>\n",
       "      <td>57</td>\n",
       "      <td>864</td>\n",
       "    </tr>\n",
       "  </tbody>\n",
       "</table>\n",
       "</div>"
      ],
      "text/plain": [
       "                                      title  \\\n",
       "0  Greg Kinnear Talks  “Stuck on You” in 20   \n",
       "1       Ellen Needs Help Christmas Shopping   \n",
       "2  John Stamos Tries the Updog Joke 🐶 #shor   \n",
       "3  Ellen Guides Single-Mom Bree on Her Ques   \n",
       "4   Best of Nicki Minaj on the 'Ellen' Show   \n",
       "5  Enrique Iglesias' First Appearance on 'E   \n",
       "6  Ellen Plays 'Reindeer, Dwarf, or Prescri   \n",
       "7  Shirley MacLaine's First Appearance on '   \n",
       "8   Season 1: Day 9 of 12 Days of Giveaways   \n",
       "9  This Christmas Gift Changed John Cena Fo   \n",
       "\n",
       "                                         description             published  \\\n",
       "0  [Aired: December 17, 2003]\\n\\nGreg Kinnear tal...  2023-12-11T16:00:37Z   \n",
       "1  [Aired: December 17, 2003]\\n\\nEllen wants her ...  2023-12-11T15:00:43Z   \n",
       "2                                                     2023-12-11T14:00:14Z   \n",
       "3  Ellen DeGeneres and Whitney Wolfe Herd team up...  2023-12-09T13:55:00Z   \n",
       "4  Nicki Minaj created unforgettable memories on ...  2023-12-08T21:00:09Z   \n",
       "5  [Aired: December 16, 2003]\\n\\nHe's the 90s hea...  2023-12-08T20:00:23Z   \n",
       "6  [Aired: December 16, 2003]\\n\\nEnjoy a fun game...  2023-12-08T19:00:19Z   \n",
       "7  [Aired: December 16, 2003]\\n\\nThe iconic Shirl...  2023-12-08T18:00:14Z   \n",
       "8  [Aired: December 16, 2003]\\n\\nWe continue the ...  2023-12-08T17:00:53Z   \n",
       "9                                                     2023-12-08T16:00:27Z   \n",
       "\n",
       "   tag_count  view_count  like_count  dislike_count  comment_count  \\\n",
       "0         21         642          45            0.0              7   \n",
       "1         21         950          83            0.0             13   \n",
       "2         21        1952         195            0.0              7   \n",
       "3         21       12923         130            0.0             26   \n",
       "4         21       38438        2437            0.0             98   \n",
       "5         21        7650         132            0.0              9   \n",
       "6         21        2417          57            0.0              3   \n",
       "7         21        9772         156            0.0              7   \n",
       "8         21        3990         125            0.0              5   \n",
       "9         21       19328         840            0.0             12   \n",
       "\n",
       "   title_length  reactions  \n",
       "0            42         59  \n",
       "1            35        109  \n",
       "2            42        209  \n",
       "3            64        182  \n",
       "4            39       2633  \n",
       "5            45        150  \n",
       "6            81         63  \n",
       "7            46        170  \n",
       "8            39        135  \n",
       "9            57        864  "
      ]
     },
     "execution_count": 20,
     "metadata": {},
     "output_type": "execute_result"
    }
   ],
   "source": [
    "df_highest_disliked = df.nlargest(10, 'dislike_count')\n",
    "df_highest_disliked['title'] = df_highest_disliked['title'].str[:40]\n",
    "df_highest_disliked['dislike_count'] = df_highest_disliked['dislike_count'] / 1000\n",
    "df_highest_disliked"
   ]
  }
 ],
 "metadata": {
  "deepnote": {},
  "deepnote_execution_queue": [],
  "deepnote_notebook_id": "d149239129744063a3419e436550b38e",
  "deepnote_persisted_session": {
   "createdAt": "2023-12-11T16:30:39.824Z"
  },
  "kernelspec": {
   "display_name": "Python 3 (ipykernel)",
   "language": "python",
   "name": "python3"
  },
  "language_info": {
   "codemirror_mode": {
    "name": "ipython",
    "version": 3
   },
   "file_extension": ".py",
   "mimetype": "text/x-python",
   "name": "python",
   "nbconvert_exporter": "python",
   "pygments_lexer": "ipython3",
   "version": "3.11.4"
  }
 },
 "nbformat": 4,
 "nbformat_minor": 1
}
